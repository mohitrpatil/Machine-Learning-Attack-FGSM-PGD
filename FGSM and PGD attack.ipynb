  {
   "cell_type": "code",
   "execution_count": 486,
   "metadata": {
    "execution": {
     "iopub.execute_input": "2022-09-27T05:52:07.350213Z",
     "iopub.status.busy": "2022-09-27T05:52:07.349823Z",
     "iopub.status.idle": "2022-09-27T05:52:07.357121Z",
     "shell.execute_reply": "2022-09-27T05:52:07.355929Z",
     "shell.execute_reply.started": "2022-09-27T05:52:07.350180Z"
    },
    "id": "no44Bo5niwXn"
   },
   "outputs": [],
   "source": [
    "import numpy as np\n",
    "import matplotlib.pyplot as plt\n",
    "from tqdm import tqdm # Displays a progress bar\n",
    "\n",
    "import torch\n",
    "from torch import nn\n",
    "from torch import optim\n",
    "import torch.nn.functional as F\n",
    "from torchvision import datasets, transforms\n",
    "from torch.utils.data import Dataset, Subset, DataLoader, random_split\n",
    "\n",
    "import seaborn as sns\n",
    "import warnings\n",
    "warnings.filterwarnings('ignore')"
   ]
  },
  {
   "cell_type": "code",
   "execution_count": 487,
   "metadata": {
    "execution": {
     "iopub.execute_input": "2022-09-27T05:52:07.362513Z",
     "iopub.status.busy": "2022-09-27T05:52:07.361800Z",
     "iopub.status.idle": "2022-09-27T05:52:07.367290Z",
     "shell.execute_reply": "2022-09-27T05:52:07.366313Z",
     "shell.execute_reply.started": "2022-09-27T05:52:07.362484Z"
    },
    "id": "JETPm5TRMlr-"
   },
   "outputs": [],
   "source": [
    "learning_rate=0.001\n",
    "num_epoch = 90"
   ]
  },
  {
   "cell_type": "markdown",
   "metadata": {
    "id": "dj6YZKo9OPkA"
   },
   "source": [
    "**LOAD THE FASHION MNIST DATASET**"
   ]
  },
  {
   "cell_type": "code",
   "execution_count": 488,
   "metadata": {
    "execution": {
     "iopub.execute_input": "2022-09-27T05:52:07.372004Z",
     "iopub.status.busy": "2022-09-27T05:52:07.371388Z",
     "iopub.status.idle": "2022-09-27T05:52:07.458113Z",
     "shell.execute_reply": "2022-09-27T05:52:07.457050Z",
     "shell.execute_reply.started": "2022-09-27T05:52:07.371960Z"
    },
    "id": "L9Nc2OLDirOB",
    "outputId": "bdf7462a-22fc-4f60-cf01-18af371a2c8f"
   },
   "outputs": [
    {
     "name": "stdout",
     "output_type": "stream",
     "text": [
      "Loading datasets...\n",
      "Done!\n"
     ]
    }
   ],
   "source": [
    "# Load the dataset and train, val, test splits\n",
    "print(\"Loading datasets...\")\n",
    "FASHION_transform = transforms.Compose([\n",
    "    transforms.ToTensor(), # Transform from [0,255] uint8 to [0,1] float\n",
    "])\n",
    "FASHION_trainval = datasets.FashionMNIST('.', download=True, train=True, transform=FASHION_transform)\n",
    "FASHION_train = Subset(FASHION_trainval, range(50000))\n",
    "FASHION_val = Subset(FASHION_trainval, range(50000,60000))\n",
    "FASHION_test = datasets.FashionMNIST('.', download=True, train=False, transform=FASHION_transform)\n",
    "print(\"Done!\")\n",
    "\n",
    "# Create dataloaders\n",
    "# TODO: Experiment with different batch sizes\n",
    "trainloader = DataLoader(FASHION_train, batch_size=150, shuffle=True)\n",
    "valloader = DataLoader(FASHION_val, batch_size=150, shuffle=True)\n",
    "testloader = DataLoader(FASHION_test, batch_size=1, shuffle=True)"
   ]
  },
  {
   "cell_type": "markdown",
   "metadata": {
    "id": "GSVyvX7EN7C4"
   },
   "source": [
    "**DEFINE THE LENET NETWORK**\n",
    "\n",
    "**Detailed architecture:**\n",
    "\n",
    "**Implemented Lenet5:** Three Convolutional layer and Two Linear layer.\n",
    "\n",
    "**Activation function used :** ReLU\n",
    "\n",
    "**Pooling layer:** MaxPool2d\n",
    "\n",
    "**Optimizer:** Adam with learning rate =0.001 and other parameters of the optimizer to default.\n",
    "\n",
    "**Loss function:** Cross Entropy\n",
    "\n",
    "**Batch Size:** 150 for train and validation data whereas 1 for test data.\n",
    "\n",
    "**Epochs:** 90\n",
    "\n",
    "**Note:** In order to increase the accuracy above 90% I added Dropout layer after 2nd Conv2d and got the accuracy of 90.06% but since it will not be a Lenet5 model anymore, I haven't included it.\n",
    "\n"
   ]
  },
  {
   "cell_type": "code",
   "execution_count": 489,
   "metadata": {
    "execution": {
     "iopub.execute_input": "2022-09-27T05:52:07.460577Z",
     "iopub.status.busy": "2022-09-27T05:52:07.460130Z",
     "iopub.status.idle": "2022-09-27T05:52:07.470637Z",
     "shell.execute_reply": "2022-09-27T05:52:07.469565Z",
     "shell.execute_reply.started": "2022-09-27T05:52:07.460540Z"
    },
    "id": "ZnAh1VhvUNru"
   },
   "outputs": [],
   "source": [
    "class Network(nn.Module):\n",
    "    def __init__(self):\n",
    "        super().__init__()\n",
    "        # TODO: Design your own network, define layers here.\n",
    "        # Here We provide a sample of two-layer fully-connected network from HW4 Part3.\n",
    "        # Your solution, however, should contain convolutional layers.\n",
    "        # Refer to PyTorch documentations of torch.nn to pick your layers. (https://pytorch.org/docs/stable/nn.html)\n",
    "        # Some common Choices are: Linear, Conv2d, ReLU, MaxPool2d, AvgPool2d, Dropout\n",
    "        # If you have many layers, consider using nn.Sequential() to simplify your code\n",
    "        # self.fc1 = nn.Linear(28*28, 8) # from 28x28 input image to hidden layer of size 256\n",
    "        # self.fc2 = nn.Linear(8,10) # from hidden layer to 10 class scores\n",
    "\n",
    "        self.convolutional_layer = nn.Sequential(\n",
    "            nn.Conv2d(in_channels=1, out_channels=6, kernel_size=5, stride=1),\n",
    "            nn.ReLU(),\n",
    "            nn.MaxPool2d(kernel_size=2, stride=2, padding=0),\n",
    "            nn.Conv2d(in_channels=6, out_channels=16, kernel_size=5, stride=1),\n",
    "            nn.ReLU(),\n",
    "            nn.MaxPool2d(kernel_size=2, stride=2, padding=0),\n",
    "            nn.Conv2d(in_channels=16, out_channels=120, kernel_size=4, stride=1),\n",
    "            nn.ReLU()\n",
    "        )\n",
    "\n",
    "        self.linear_layer = nn.Sequential(\n",
    "            nn.Linear(in_features=120, out_features=84),\n",
    "            nn.ReLU(),\n",
    "            nn.Linear(in_features=84, out_features=10)\n",
    "        )\n",
    "\n",
    "    def forward(self, x):\n",
    "        x = self.convolutional_layer(x)\n",
    "        x = torch.flatten(x, start_dim=1)\n",
    "        x = self.linear_layer(x)\n",
    "        x= F.softmax(x, dim=1)\n",
    "        return x\n",
    "        "
   ]
  },
  {
   "cell_type": "code",
   "execution_count": 490,
   "metadata": {
    "execution": {
     "iopub.execute_input": "2022-09-27T05:52:07.473294Z",
     "iopub.status.busy": "2022-09-27T05:52:07.472112Z",
     "iopub.status.idle": "2022-09-27T05:52:07.487391Z",
     "shell.execute_reply": "2022-09-27T05:52:07.486394Z",
     "shell.execute_reply.started": "2022-09-27T05:52:07.473222Z"
    },
    "id": "Y2KoHYLxQs3V"
   },
   "outputs": [],
   "source": [
    "device = \"cuda\" if torch.cuda.is_available() else \"cpu\" # Configure device\n",
    "model = Network().to(device)\n",
    "# TODO: Define loss function \n",
    "criterion = nn.CrossEntropyLoss() # Specify the loss layer\n",
    "# TODO: Modify the line below, experiment with different optimizers and parameters (such as learning rate)\n",
    "optimizer = optim.Adam(model.parameters(), lr=learning_rate) # Specify optimizer and assign trainable parameters to it, weight_decay is L2 regularization strength"
   ]
  },
  {
   "cell_type": "code",
   "execution_count": 491,
   "metadata": {
    "execution": {
     "iopub.execute_input": "2022-09-27T05:52:07.490820Z",
     "iopub.status.busy": "2022-09-27T05:52:07.490446Z",
     "iopub.status.idle": "2022-09-27T05:52:07.498966Z",
     "shell.execute_reply": "2022-09-27T05:52:07.497747Z",
     "shell.execute_reply.started": "2022-09-27T05:52:07.490779Z"
    },
    "id": "VtfmtapYjJZr",
    "outputId": "ed45c57d-a243-43f5-b0c3-76c141abf35c"
   },
   "outputs": [
    {
     "name": "stdout",
     "output_type": "stream",
     "text": [
      "Network(\n",
      "  (convolutional_layer): Sequential(\n",
      "    (0): Conv2d(1, 6, kernel_size=(5, 5), stride=(1, 1))\n",
      "    (1): ReLU()\n",
      "    (2): MaxPool2d(kernel_size=2, stride=2, padding=0, dilation=1, ceil_mode=False)\n",
      "    (3): Conv2d(6, 16, kernel_size=(5, 5), stride=(1, 1))\n",
      "    (4): ReLU()\n",
      "    (5): MaxPool2d(kernel_size=2, stride=2, padding=0, dilation=1, ceil_mode=False)\n",
      "    (6): Conv2d(16, 120, kernel_size=(4, 4), stride=(1, 1))\n",
      "    (7): ReLU()\n",
      "  )\n",
      "  (linear_layer): Sequential(\n",
      "    (0): Linear(in_features=120, out_features=84, bias=True)\n",
      "    (1): ReLU()\n",
      "    (2): Linear(in_features=84, out_features=10, bias=True)\n",
      "  )\n",
      ")\n"
     ]
    }
   ],
   "source": [
    "print(model)"
   ]
  },
  {
   "cell_type": "code",
   "execution_count": 492,
   "metadata": {
    "execution": {
     "iopub.execute_input": "2022-09-27T05:52:07.501846Z",
     "iopub.status.busy": "2022-09-27T05:52:07.500314Z",
     "iopub.status.idle": "2022-09-27T05:52:07.511324Z",
     "shell.execute_reply": "2022-09-27T05:52:07.510428Z",
     "shell.execute_reply.started": "2022-09-27T05:52:07.501820Z"
    },
    "id": "GRZYxGIyinzq"
   },
   "outputs": [],
   "source": [
    "def train(model, loader, num_epoch): # Train the model\n",
    "    print(\"Start training...\")\n",
    "    model.train() # Set the model to training mode\n",
    "    for i in range(num_epoch):\n",
    "        running_loss = []\n",
    "        train_correct = 0\n",
    "        for batch, label in tqdm(loader):\n",
    "            batch = batch.to(device)\n",
    "            label = label.to(device)\n",
    "            optimizer.zero_grad() # Clear gradients from the previous iteration\n",
    "            pred = model(batch) # This will call Network.forward() that you implement\n",
    "            loss = criterion(pred, label) # Calculate the loss\n",
    "            running_loss.append(loss.item())\n",
    "            loss.backward() # Backprop gradients to all tensors in the network\n",
    "            optimizer.step() # Update trainable weights\n",
    "            train_correct += (torch.argmax(pred,dim=1)==label).sum().item()\n",
    "\n",
    "        accuracy = 100 * train_correct /  len(FASHION_train)\n",
    "        print(\"Epoch {}\".format(i+1))\n",
    "        print(\"Train Accuracy: {}\".format(accuracy))\n",
    "        print(\"Train loss:{}\".format(np.mean(running_loss))) # Print the average loss for this epoch\n",
    "        losses.append(np.mean(running_loss))\n",
    "        train_accuracy.append(accuracy)\n",
    "        validation_evaluate(model,valloader)\n",
    "    print(\"Done!\")\n"
   ]
  },
  {
   "cell_type": "code",
   "execution_count": 493,
   "metadata": {
    "execution": {
     "iopub.execute_input": "2022-09-27T05:52:07.513374Z",
     "iopub.status.busy": "2022-09-27T05:52:07.513005Z",
     "iopub.status.idle": "2022-09-27T05:52:07.523575Z",
     "shell.execute_reply": "2022-09-27T05:52:07.522597Z",
     "shell.execute_reply.started": "2022-09-27T05:52:07.513338Z"
    },
    "id": "mHalxWeii62I"
   },
   "outputs": [],
   "source": [
    "def validation_evaluate(model, loader): # Evaluate accuracy on validation / test set\n",
    "    model.eval() # Set the model to evaluation mode\n",
    "    correct = 0\n",
    "    validation_running_loss=[]\n",
    "    with torch.no_grad(): # Do not calculate grident to speed up computation\n",
    "        for batch, label in tqdm(loader):\n",
    "            batch = batch.to(device)\n",
    "            label = label.to(device)\n",
    "            pred = model(batch)\n",
    "            loss = criterion(pred, label)\n",
    "            validation_running_loss.append(loss.item())\n",
    "            correct += (torch.argmax(pred,dim=1)==label).sum().item()\n",
    "             \n",
    "    acc = correct*100/len(loader.dataset)\n",
    "    print(\"Validation accuracy: {}\".format(acc))\n",
    "    print(\"Validation loss: \"+ str(np.mean(validation_running_loss)))\n",
    "    print(\"--------------------------------------------------------------------\")\n",
    "    validation_loss.append(np.mean(validation_running_loss))\n",
    "    validation_accuracy.append(acc)\n",
    "    return acc"
   ]
  },
  {
   "cell_type": "code",
   "execution_count": 494,
   "metadata": {
    "execution": {
     "iopub.execute_input": "2022-09-27T05:52:07.525772Z",
     "iopub.status.busy": "2022-09-27T05:52:07.525525Z",
     "iopub.status.idle": "2022-09-27T05:52:07.535912Z",
     "shell.execute_reply": "2022-09-27T05:52:07.534950Z",
     "shell.execute_reply.started": "2022-09-27T05:52:07.525749Z"
    },
    "id": "vStoOdhnC7aF"
   },
   "outputs": [],
   "source": [
    "def test_evaluate(model, loader): # Evaluate accuracy on validation / test set\n",
    "    model.eval() # Set the model to evaluation mode\n",
    "    correct = 0\n",
    "    running_loss=[]\n",
    "    with torch.no_grad(): # Do not calculate grident to speed up computation\n",
    "        for batch, label in tqdm(loader):\n",
    "            batch = batch.to(device)\n",
    "            label = label.to(device)\n",
    "            pred = model(batch)\n",
    "            # loss = criterion(pred, label)\n",
    "            # running_loss.append(loss.item())\n",
    "            correct += (torch.argmax(pred,dim=1)==label).sum().item()\n",
    "            \n",
    "    acc = correct*100/len(loader.dataset)\n",
    "    print(\"Evaluating test accuracy: {}\".format(acc))\n",
    "    return acc"
   ]
  },
  {
   "cell_type": "markdown",
   "metadata": {
    "id": "5Kd5rJ9fN2ua"
   },
   "source": [
    "**TRAIN THE MODEL**"
   ]
  },
  {
   "cell_type": "code",
   "execution_count": 495,
   "metadata": {
    "execution": {
     "iopub.execute_input": "2022-09-27T05:52:07.538060Z",
     "iopub.status.busy": "2022-09-27T05:52:07.537624Z",
     "iopub.status.idle": "2022-09-27T06:02:03.899488Z",
     "shell.execute_reply": "2022-09-27T06:02:03.898472Z",
     "shell.execute_reply.started": "2022-09-27T05:52:07.538026Z"
    },
    "id": "VFxmh3ODlR04",
    "outputId": "37af26ff-25d1-492d-892a-722f9c9f5af2"
   },
   "outputs": [
    {
     "name": "stdout",
     "output_type": "stream",
     "text": [
      "Start training...\n"
     ]
    },
    {
     "name": "stderr",
     "output_type": "stream",
     "text": [
      "100%|██████████| 334/334 [00:05<00:00, 61.54it/s]\n"
     ]
    },
    {
     "name": "stdout",
     "output_type": "stream",
     "text": [
      "Epoch 1\n",
      "Train Accuracy: 64.768\n",
      "Train loss:1.8247422604503747\n"
     ]
    },
    {
     "name": "stderr",
     "output_type": "stream",
     "text": [
      "100%|██████████| 67/67 [00:00<00:00, 71.50it/s]\n"
     ]
    },
    {
     "name": "stdout",
     "output_type": "stream",
     "text": [
      "Validation accuracy: 74.02\n",
      "Validation loss: 1.7226713504364242\n",
      "--------------------------------------------------------------------\n"
     ]
    },
    {
     "name": "stderr",
     "output_type": "stream",
     "text": [
      "100%|██████████| 334/334 [00:05<00:00, 58.74it/s]\n"
     ]
    },
    {
     "name": "stdout",
     "output_type": "stream",
     "text": [
      "Epoch 2\n",
      "Train Accuracy: 75.502\n",
      "Train loss:1.708156520021176\n"
     ]
    },
    {
     "name": "stderr",
     "output_type": "stream",
     "text": [
      "100%|██████████| 67/67 [00:00<00:00, 70.72it/s]\n"
     ]
    },
    {
     "name": "stdout",
     "output_type": "stream",
     "text": [
      "Validation accuracy: 76.38\n",
      "Validation loss: 1.6965896140283614\n",
      "--------------------------------------------------------------------\n"
     ]
    },
    {
     "name": "stderr",
     "output_type": "stream",
     "text": [
      "100%|██████████| 334/334 [00:05<00:00, 60.60it/s]\n"
     ]
    },
    {
     "name": "stdout",
     "output_type": "stream",
     "text": [
      "Epoch 3\n",
      "Train Accuracy: 79.258\n",
      "Train loss:1.671797205944975\n"
     ]
    },
    {
     "name": "stderr",
     "output_type": "stream",
     "text": [
      "100%|██████████| 67/67 [00:01<00:00, 55.07it/s]\n"
     ]
    },
    {
     "name": "stdout",
     "output_type": "stream",
     "text": [
      "Validation accuracy: 80.56\n",
      "Validation loss: 1.657261958762781\n",
      "--------------------------------------------------------------------\n"
     ]
    },
    {
     "name": "stderr",
     "output_type": "stream",
     "text": [
      "100%|██████████| 334/334 [00:05<00:00, 55.98it/s]\n"
     ]
    },
    {
     "name": "stdout",
     "output_type": "stream",
     "text": [
      "Epoch 4\n",
      "Train Accuracy: 81.996\n",
      "Train loss:1.6440024247426472\n"
     ]
    },
    {
     "name": "stderr",
     "output_type": "stream",
     "text": [
      "100%|██████████| 67/67 [00:00<00:00, 71.33it/s]\n"
     ]
    },
    {
     "name": "stdout",
     "output_type": "stream",
     "text": [
      "Validation accuracy: 82.34\n",
      "Validation loss: 1.6397984365918743\n",
      "--------------------------------------------------------------------\n"
     ]
    },
    {
     "name": "stderr",
     "output_type": "stream",
     "text": [
      "100%|██████████| 334/334 [00:05<00:00, 56.95it/s]\n"
     ]
    },
    {
     "name": "stdout",
     "output_type": "stream",
     "text": [
      "Epoch 5\n",
      "Train Accuracy: 83.37\n",
      "Train loss:1.6288880016989338\n"
     ]
    },
    {
     "name": "stderr",
     "output_type": "stream",
     "text": [
      "100%|██████████| 67/67 [00:00<00:00, 70.72it/s]\n"
     ]
    },
    {
     "name": "stdout",
     "output_type": "stream",
     "text": [
      "Validation accuracy: 83.98\n",
      "Validation loss: 1.6223736930249342\n",
      "--------------------------------------------------------------------\n"
     ]
    },
    {
     "name": "stderr",
     "output_type": "stream",
     "text": [
      "100%|██████████| 334/334 [00:05<00:00, 62.37it/s]\n"
     ]
    },
    {
     "name": "stdout",
     "output_type": "stream",
     "text": [
      "Epoch 6\n",
      "Train Accuracy: 84.608\n",
      "Train loss:1.6164689353126251\n"
     ]
    },
    {
     "name": "stderr",
     "output_type": "stream",
     "text": [
      "100%|██████████| 67/67 [00:00<00:00, 70.92it/s]\n"
     ]
    },
    {
     "name": "stdout",
     "output_type": "stream",
     "text": [
      "Validation accuracy: 83.33\n",
      "Validation loss: 1.6289791420324524\n",
      "--------------------------------------------------------------------\n"
     ]
    },
    {
     "name": "stderr",
     "output_type": "stream",
     "text": [
      "100%|██████████| 334/334 [00:05<00:00, 58.66it/s]\n"
     ]
    },
    {
     "name": "stdout",
     "output_type": "stream",
     "text": [
      "Epoch 7\n",
      "Train Accuracy: 85.316\n",
      "Train loss:1.6096358495558094\n"
     ]
    },
    {
     "name": "stderr",
     "output_type": "stream",
     "text": [
      "100%|██████████| 67/67 [00:00<00:00, 69.63it/s]\n"
     ]
    },
    {
     "name": "stdout",
     "output_type": "stream",
     "text": [
      "Validation accuracy: 85.11\n",
      "Validation loss: 1.6112434205724233\n",
      "--------------------------------------------------------------------\n"
     ]
    },
    {
     "name": "stderr",
     "output_type": "stream",
     "text": [
      "100%|██████████| 334/334 [00:06<00:00, 54.24it/s]\n"
     ]
    },
    {
     "name": "stdout",
     "output_type": "stream",
     "text": [
      "Epoch 8\n",
      "Train Accuracy: 85.762\n",
      "Train loss:1.60423523865774\n"
     ]
    },
    {
     "name": "stderr",
     "output_type": "stream",
     "text": [
      "100%|██████████| 67/67 [00:01<00:00, 59.45it/s]\n"
     ]
    },
    {
     "name": "stdout",
     "output_type": "stream",
     "text": [
      "Validation accuracy: 86.25\n",
      "Validation loss: 1.599994378303414\n",
      "--------------------------------------------------------------------\n"
     ]
    },
    {
     "name": "stderr",
     "output_type": "stream",
     "text": [
      "100%|██████████| 334/334 [00:05<00:00, 60.90it/s]\n"
     ]
    },
    {
     "name": "stdout",
     "output_type": "stream",
     "text": [
      "Epoch 9\n",
      "Train Accuracy: 86.246\n",
      "Train loss:1.5994804191018293\n"
     ]
    },
    {
     "name": "stderr",
     "output_type": "stream",
     "text": [
      "100%|██████████| 67/67 [00:00<00:00, 70.06it/s]\n"
     ]
    },
    {
     "name": "stdout",
     "output_type": "stream",
     "text": [
      "Validation accuracy: 86.22\n",
      "Validation loss: 1.599880115309758\n",
      "--------------------------------------------------------------------\n"
     ]
    },
    {
     "name": "stderr",
     "output_type": "stream",
     "text": [
      "100%|██████████| 334/334 [00:05<00:00, 58.92it/s]\n"
     ]
    },
    {
     "name": "stdout",
     "output_type": "stream",
     "text": [
      "Epoch 10\n",
      "Train Accuracy: 86.728\n",
      "Train loss:1.5946317832626982\n"
     ]
    },
    {
     "name": "stderr",
     "output_type": "stream",
     "text": [
      "100%|██████████| 67/67 [00:00<00:00, 70.89it/s]\n"
     ]
    },
    {
     "name": "stdout",
     "output_type": "stream",
     "text": [
      "Validation accuracy: 85.35\n",
      "Validation loss: 1.6085357986279387\n",
      "--------------------------------------------------------------------\n"
     ]
    },
    {
     "name": "stderr",
     "output_type": "stream",
     "text": [
      "100%|██████████| 334/334 [00:05<00:00, 61.19it/s]\n"
     ]
    },
    {
     "name": "stdout",
     "output_type": "stream",
     "text": [
      "Epoch 11\n",
      "Train Accuracy: 86.91\n",
      "Train loss:1.5926697382669963\n"
     ]
    },
    {
     "name": "stderr",
     "output_type": "stream",
     "text": [
      "100%|██████████| 67/67 [00:00<00:00, 71.17it/s]\n"
     ]
    },
    {
     "name": "stdout",
     "output_type": "stream",
     "text": [
      "Validation accuracy: 85.88\n",
      "Validation loss: 1.6024865659315195\n",
      "--------------------------------------------------------------------\n"
     ]
    },
    {
     "name": "stderr",
     "output_type": "stream",
     "text": [
      "100%|██████████| 334/334 [00:05<00:00, 58.64it/s]\n"
     ]
    },
    {
     "name": "stdout",
     "output_type": "stream",
     "text": [
      "Epoch 12\n",
      "Train Accuracy: 87.156\n",
      "Train loss:1.5903737284466177\n"
     ]
    },
    {
     "name": "stderr",
     "output_type": "stream",
     "text": [
      "100%|██████████| 67/67 [00:01<00:00, 66.27it/s]\n"
     ]
    },
    {
     "name": "stdout",
     "output_type": "stream",
     "text": [
      "Validation accuracy: 85.68\n",
      "Validation loss: 1.6037406227481898\n",
      "--------------------------------------------------------------------\n"
     ]
    },
    {
     "name": "stderr",
     "output_type": "stream",
     "text": [
      "100%|██████████| 334/334 [00:06<00:00, 53.76it/s]\n"
     ]
    },
    {
     "name": "stdout",
     "output_type": "stream",
     "text": [
      "Epoch 13\n",
      "Train Accuracy: 87.5\n",
      "Train loss:1.5868165389506403\n"
     ]
    },
    {
     "name": "stderr",
     "output_type": "stream",
     "text": [
      "100%|██████████| 67/67 [00:00<00:00, 70.83it/s]\n"
     ]
    },
    {
     "name": "stdout",
     "output_type": "stream",
     "text": [
      "Validation accuracy: 86.81\n",
      "Validation loss: 1.593105504761881\n",
      "--------------------------------------------------------------------\n"
     ]
    },
    {
     "name": "stderr",
     "output_type": "stream",
     "text": [
      "100%|██████████| 334/334 [00:05<00:00, 61.90it/s]\n"
     ]
    },
    {
     "name": "stdout",
     "output_type": "stream",
     "text": [
      "Epoch 14\n",
      "Train Accuracy: 87.732\n",
      "Train loss:1.5845290936395793\n"
     ]
    },
    {
     "name": "stderr",
     "output_type": "stream",
     "text": [
      "100%|██████████| 67/67 [00:00<00:00, 70.60it/s]\n"
     ]
    },
    {
     "name": "stdout",
     "output_type": "stream",
     "text": [
      "Validation accuracy: 87.57\n",
      "Validation loss: 1.5868045020459303\n",
      "--------------------------------------------------------------------\n"
     ]
    },
    {
     "name": "stderr",
     "output_type": "stream",
     "text": [
      "100%|██████████| 334/334 [00:05<00:00, 58.77it/s]\n"
     ]
    },
    {
     "name": "stdout",
     "output_type": "stream",
     "text": [
      "Epoch 15\n",
      "Train Accuracy: 87.994\n",
      "Train loss:1.5818236759322846\n"
     ]
    },
    {
     "name": "stderr",
     "output_type": "stream",
     "text": [
      "100%|██████████| 67/67 [00:00<00:00, 72.42it/s]\n"
     ]
    },
    {
     "name": "stdout",
     "output_type": "stream",
     "text": [
      "Validation accuracy: 86.29\n",
      "Validation loss: 1.5989447956654563\n",
      "--------------------------------------------------------------------\n"
     ]
    },
    {
     "name": "stderr",
     "output_type": "stream",
     "text": [
      "100%|██████████| 334/334 [00:05<00:00, 62.40it/s]\n"
     ]
    },
    {
     "name": "stdout",
     "output_type": "stream",
     "text": [
      "Epoch 16\n",
      "Train Accuracy: 88.376\n",
      "Train loss:1.5775646824322775\n"
     ]
    },
    {
     "name": "stderr",
     "output_type": "stream",
     "text": [
      "100%|██████████| 67/67 [00:00<00:00, 70.78it/s]\n"
     ]
    },
    {
     "name": "stdout",
     "output_type": "stream",
     "text": [
      "Validation accuracy: 87.2\n",
      "Validation loss: 1.5888782205866343\n",
      "--------------------------------------------------------------------\n"
     ]
    },
    {
     "name": "stderr",
     "output_type": "stream",
     "text": [
      "100%|██████████| 334/334 [00:05<00:00, 58.77it/s]\n"
     ]
    },
    {
     "name": "stdout",
     "output_type": "stream",
     "text": [
      "Epoch 17\n",
      "Train Accuracy: 88.704\n",
      "Train loss:1.5751324463747218\n"
     ]
    },
    {
     "name": "stderr",
     "output_type": "stream",
     "text": [
      "100%|██████████| 67/67 [00:00<00:00, 67.79it/s]\n"
     ]
    },
    {
     "name": "stdout",
     "output_type": "stream",
     "text": [
      "Validation accuracy: 87.35\n",
      "Validation loss: 1.587828225164271\n",
      "--------------------------------------------------------------------\n"
     ]
    },
    {
     "name": "stderr",
     "output_type": "stream",
     "text": [
      "100%|██████████| 334/334 [00:06<00:00, 52.63it/s]\n"
     ]
    },
    {
     "name": "stdout",
     "output_type": "stream",
     "text": [
      "Epoch 18\n",
      "Train Accuracy: 88.87\n",
      "Train loss:1.5727845451788989\n"
     ]
    },
    {
     "name": "stderr",
     "output_type": "stream",
     "text": [
      "100%|██████████| 67/67 [00:01<00:00, 62.11it/s]\n"
     ]
    },
    {
     "name": "stdout",
     "output_type": "stream",
     "text": [
      "Validation accuracy: 87.72\n",
      "Validation loss: 1.5833408085267935\n",
      "--------------------------------------------------------------------\n"
     ]
    },
    {
     "name": "stderr",
     "output_type": "stream",
     "text": [
      "100%|██████████| 334/334 [00:05<00:00, 62.45it/s]\n"
     ]
    },
    {
     "name": "stdout",
     "output_type": "stream",
     "text": [
      "Epoch 19\n",
      "Train Accuracy: 88.872\n",
      "Train loss:1.5722389503153498\n"
     ]
    },
    {
     "name": "stderr",
     "output_type": "stream",
     "text": [
      "100%|██████████| 67/67 [00:00<00:00, 71.86it/s]\n"
     ]
    },
    {
     "name": "stdout",
     "output_type": "stream",
     "text": [
      "Validation accuracy: 88.03\n",
      "Validation loss: 1.580747671981356\n",
      "--------------------------------------------------------------------\n"
     ]
    },
    {
     "name": "stderr",
     "output_type": "stream",
     "text": [
      "100%|██████████| 334/334 [00:05<00:00, 59.74it/s]\n"
     ]
    },
    {
     "name": "stdout",
     "output_type": "stream",
     "text": [
      "Epoch 20\n",
      "Train Accuracy: 89.14\n",
      "Train loss:1.5702423806675894\n"
     ]
    },
    {
     "name": "stderr",
     "output_type": "stream",
     "text": [
      "100%|██████████| 67/67 [00:00<00:00, 70.08it/s]\n"
     ]
    },
    {
     "name": "stdout",
     "output_type": "stream",
     "text": [
      "Validation accuracy: 87.8\n",
      "Validation loss: 1.5833433154803604\n",
      "--------------------------------------------------------------------\n"
     ]
    },
    {
     "name": "stderr",
     "output_type": "stream",
     "text": [
      "100%|██████████| 334/334 [00:05<00:00, 61.56it/s]\n"
     ]
    },
    {
     "name": "stdout",
     "output_type": "stream",
     "text": [
      "Epoch 21\n",
      "Train Accuracy: 89.324\n",
      "Train loss:1.5681868763027076\n"
     ]
    },
    {
     "name": "stderr",
     "output_type": "stream",
     "text": [
      "100%|██████████| 67/67 [00:00<00:00, 67.33it/s]\n"
     ]
    },
    {
     "name": "stdout",
     "output_type": "stream",
     "text": [
      "Validation accuracy: 88.02\n",
      "Validation loss: 1.579911747975136\n",
      "--------------------------------------------------------------------\n"
     ]
    },
    {
     "name": "stderr",
     "output_type": "stream",
     "text": [
      "100%|██████████| 334/334 [00:05<00:00, 57.96it/s]\n"
     ]
    },
    {
     "name": "stdout",
     "output_type": "stream",
     "text": [
      "Epoch 22\n",
      "Train Accuracy: 89.44\n",
      "Train loss:1.5674105800554423\n"
     ]
    },
    {
     "name": "stderr",
     "output_type": "stream",
     "text": [
      "100%|██████████| 67/67 [00:01<00:00, 58.43it/s]\n"
     ]
    },
    {
     "name": "stdout",
     "output_type": "stream",
     "text": [
      "Validation accuracy: 87.02\n",
      "Validation loss: 1.5898231356891233\n",
      "--------------------------------------------------------------------\n"
     ]
    },
    {
     "name": "stderr",
     "output_type": "stream",
     "text": [
      "100%|██████████| 334/334 [00:05<00:00, 56.08it/s]\n"
     ]
    },
    {
     "name": "stdout",
     "output_type": "stream",
     "text": [
      "Epoch 23\n",
      "Train Accuracy: 89.452\n",
      "Train loss:1.5670611412225368\n"
     ]
    },
    {
     "name": "stderr",
     "output_type": "stream",
     "text": [
      "100%|██████████| 67/67 [00:00<00:00, 72.20it/s]\n"
     ]
    },
    {
     "name": "stdout",
     "output_type": "stream",
     "text": [
      "Validation accuracy: 88.71\n",
      "Validation loss: 1.5746644877675753\n",
      "--------------------------------------------------------------------\n"
     ]
    },
    {
     "name": "stderr",
     "output_type": "stream",
     "text": [
      "100%|██████████| 334/334 [00:05<00:00, 62.68it/s]\n"
     ]
    },
    {
     "name": "stdout",
     "output_type": "stream",
     "text": [
      "Epoch 24\n",
      "Train Accuracy: 89.804\n",
      "Train loss:1.563523257207014\n"
     ]
    },
    {
     "name": "stderr",
     "output_type": "stream",
     "text": [
      "100%|██████████| 67/67 [00:00<00:00, 72.82it/s]\n"
     ]
    },
    {
     "name": "stdout",
     "output_type": "stream",
     "text": [
      "Validation accuracy: 87.87\n",
      "Validation loss: 1.582325161393009\n",
      "--------------------------------------------------------------------\n"
     ]
    },
    {
     "name": "stderr",
     "output_type": "stream",
     "text": [
      "100%|██████████| 334/334 [00:05<00:00, 58.07it/s]\n"
     ]
    },
    {
     "name": "stdout",
     "output_type": "stream",
     "text": [
      "Epoch 25\n",
      "Train Accuracy: 89.836\n",
      "Train loss:1.5630828913100465\n"
     ]
    },
    {
     "name": "stderr",
     "output_type": "stream",
     "text": [
      "100%|██████████| 67/67 [00:00<00:00, 71.93it/s]\n"
     ]
    },
    {
     "name": "stdout",
     "output_type": "stream",
     "text": [
      "Validation accuracy: 88.64\n",
      "Validation loss: 1.5741275637897092\n",
      "--------------------------------------------------------------------\n"
     ]
    },
    {
     "name": "stderr",
     "output_type": "stream",
     "text": [
      "100%|██████████| 334/334 [00:05<00:00, 61.59it/s]\n"
     ]
    },
    {
     "name": "stdout",
     "output_type": "stream",
     "text": [
      "Epoch 26\n",
      "Train Accuracy: 89.884\n",
      "Train loss:1.562895645638426\n"
     ]
    },
    {
     "name": "stderr",
     "output_type": "stream",
     "text": [
      "100%|██████████| 67/67 [00:01<00:00, 64.22it/s]\n"
     ]
    },
    {
     "name": "stdout",
     "output_type": "stream",
     "text": [
      "Validation accuracy: 87.7\n",
      "Validation loss: 1.5827002721046335\n",
      "--------------------------------------------------------------------\n"
     ]
    },
    {
     "name": "stderr",
     "output_type": "stream",
     "text": [
      "100%|██████████| 334/334 [00:06<00:00, 55.18it/s]\n"
     ]
    },
    {
     "name": "stdout",
     "output_type": "stream",
     "text": [
      "Epoch 27\n",
      "Train Accuracy: 90.238\n",
      "Train loss:1.5591590447340182\n"
     ]
    },
    {
     "name": "stderr",
     "output_type": "stream",
     "text": [
      "100%|██████████| 67/67 [00:00<00:00, 70.78it/s]\n"
     ]
    },
    {
     "name": "stdout",
     "output_type": "stream",
     "text": [
      "Validation accuracy: 88.42\n",
      "Validation loss: 1.5771187134643099\n",
      "--------------------------------------------------------------------\n"
     ]
    },
    {
     "name": "stderr",
     "output_type": "stream",
     "text": [
      "100%|██████████| 334/334 [00:05<00:00, 57.97it/s]\n"
     ]
    },
    {
     "name": "stdout",
     "output_type": "stream",
     "text": [
      "Epoch 28\n",
      "Train Accuracy: 90.078\n",
      "Train loss:1.5603101021515395\n"
     ]
    },
    {
     "name": "stderr",
     "output_type": "stream",
     "text": [
      "100%|██████████| 67/67 [00:00<00:00, 73.06it/s]\n"
     ]
    },
    {
     "name": "stdout",
     "output_type": "stream",
     "text": [
      "Validation accuracy: 88.84\n",
      "Validation loss: 1.5731184731668502\n",
      "--------------------------------------------------------------------\n"
     ]
    },
    {
     "name": "stderr",
     "output_type": "stream",
     "text": [
      "100%|██████████| 334/334 [00:05<00:00, 62.43it/s]\n"
     ]
    },
    {
     "name": "stdout",
     "output_type": "stream",
     "text": [
      "Epoch 29\n",
      "Train Accuracy: 90.242\n",
      "Train loss:1.5593982835015852\n"
     ]
    },
    {
     "name": "stderr",
     "output_type": "stream",
     "text": [
      "100%|██████████| 67/67 [00:00<00:00, 72.09it/s]\n"
     ]
    },
    {
     "name": "stdout",
     "output_type": "stream",
     "text": [
      "Validation accuracy: 88.36\n",
      "Validation loss: 1.576432452273013\n",
      "--------------------------------------------------------------------\n"
     ]
    },
    {
     "name": "stderr",
     "output_type": "stream",
     "text": [
      "100%|██████████| 334/334 [00:05<00:00, 59.22it/s]\n"
     ]
    },
    {
     "name": "stdout",
     "output_type": "stream",
     "text": [
      "Epoch 30\n",
      "Train Accuracy: 90.344\n",
      "Train loss:1.5577006097325308\n"
     ]
    },
    {
     "name": "stderr",
     "output_type": "stream",
     "text": [
      "100%|██████████| 67/67 [00:00<00:00, 72.05it/s]\n"
     ]
    },
    {
     "name": "stdout",
     "output_type": "stream",
     "text": [
      "Validation accuracy: 88.49\n",
      "Validation loss: 1.576056804229964\n",
      "--------------------------------------------------------------------\n"
     ]
    },
    {
     "name": "stderr",
     "output_type": "stream",
     "text": [
      "100%|██████████| 334/334 [00:05<00:00, 61.21it/s]\n"
     ]
    },
    {
     "name": "stdout",
     "output_type": "stream",
     "text": [
      "Epoch 31\n",
      "Train Accuracy: 90.61\n",
      "Train loss:1.5549524226588403\n"
     ]
    },
    {
     "name": "stderr",
     "output_type": "stream",
     "text": [
      "100%|██████████| 67/67 [00:01<00:00, 64.57it/s]\n"
     ]
    },
    {
     "name": "stdout",
     "output_type": "stream",
     "text": [
      "Validation accuracy: 88.81\n",
      "Validation loss: 1.5723218473035898\n",
      "--------------------------------------------------------------------\n"
     ]
    },
    {
     "name": "stderr",
     "output_type": "stream",
     "text": [
      "100%|██████████| 334/334 [00:06<00:00, 55.32it/s]\n"
     ]
    },
    {
     "name": "stdout",
     "output_type": "stream",
     "text": [
      "Epoch 32\n",
      "Train Accuracy: 90.63\n",
      "Train loss:1.5546037229949128\n"
     ]
    },
    {
     "name": "stderr",
     "output_type": "stream",
     "text": [
      "100%|██████████| 67/67 [00:00<00:00, 68.82it/s]\n"
     ]
    },
    {
     "name": "stdout",
     "output_type": "stream",
     "text": [
      "Validation accuracy: 88.66\n",
      "Validation loss: 1.5751756358502516\n",
      "--------------------------------------------------------------------\n"
     ]
    },
    {
     "name": "stderr",
     "output_type": "stream",
     "text": [
      "100%|██████████| 334/334 [00:05<00:00, 58.56it/s]\n"
     ]
    },
    {
     "name": "stdout",
     "output_type": "stream",
     "text": [
      "Epoch 33\n",
      "Train Accuracy: 90.676\n",
      "Train loss:1.5548944516096286\n"
     ]
    },
    {
     "name": "stderr",
     "output_type": "stream",
     "text": [
      "100%|██████████| 67/67 [00:00<00:00, 72.60it/s]\n"
     ]
    },
    {
     "name": "stdout",
     "output_type": "stream",
     "text": [
      "Validation accuracy: 88.3\n",
      "Validation loss: 1.5764744121636918\n",
      "--------------------------------------------------------------------\n"
     ]
    },
    {
     "name": "stderr",
     "output_type": "stream",
     "text": [
      "100%|██████████| 334/334 [00:06<00:00, 54.68it/s]\n"
     ]
    },
    {
     "name": "stdout",
     "output_type": "stream",
     "text": [
      "Epoch 34\n",
      "Train Accuracy: 90.98\n",
      "Train loss:1.5515859508942702\n"
     ]
    },
    {
     "name": "stderr",
     "output_type": "stream",
     "text": [
      "100%|██████████| 67/67 [00:00<00:00, 68.79it/s]\n"
     ]
    },
    {
     "name": "stdout",
     "output_type": "stream",
     "text": [
      "Validation accuracy: 89.08\n",
      "Validation loss: 1.570656920546916\n",
      "--------------------------------------------------------------------\n"
     ]
    },
    {
     "name": "stderr",
     "output_type": "stream",
     "text": [
      "100%|██████████| 334/334 [00:05<00:00, 59.00it/s]\n"
     ]
    },
    {
     "name": "stdout",
     "output_type": "stream",
     "text": [
      "Epoch 35\n",
      "Train Accuracy: 90.87\n",
      "Train loss:1.552620750344442\n"
     ]
    },
    {
     "name": "stderr",
     "output_type": "stream",
     "text": [
      "100%|██████████| 67/67 [00:00<00:00, 69.18it/s]\n"
     ]
    },
    {
     "name": "stdout",
     "output_type": "stream",
     "text": [
      "Validation accuracy: 88.3\n",
      "Validation loss: 1.5775379689771738\n",
      "--------------------------------------------------------------------\n"
     ]
    },
    {
     "name": "stderr",
     "output_type": "stream",
     "text": [
      "100%|██████████| 334/334 [00:05<00:00, 62.38it/s]\n"
     ]
    },
    {
     "name": "stdout",
     "output_type": "stream",
     "text": [
      "Epoch 36\n",
      "Train Accuracy: 91.002\n",
      "Train loss:1.5517518448972416\n"
     ]
    },
    {
     "name": "stderr",
     "output_type": "stream",
     "text": [
      "100%|██████████| 67/67 [00:01<00:00, 58.21it/s]\n"
     ]
    },
    {
     "name": "stdout",
     "output_type": "stream",
     "text": [
      "Validation accuracy: 88.95\n",
      "Validation loss: 1.5715048491065182\n",
      "--------------------------------------------------------------------\n"
     ]
    },
    {
     "name": "stderr",
     "output_type": "stream",
     "text": [
      "100%|██████████| 334/334 [00:05<00:00, 56.34it/s]\n"
     ]
    },
    {
     "name": "stdout",
     "output_type": "stream",
     "text": [
      "Epoch 37\n",
      "Train Accuracy: 91.066\n",
      "Train loss:1.5505373413691264\n"
     ]
    },
    {
     "name": "stderr",
     "output_type": "stream",
     "text": [
      "100%|██████████| 67/67 [00:00<00:00, 72.76it/s]\n"
     ]
    },
    {
     "name": "stdout",
     "output_type": "stream",
     "text": [
      "Validation accuracy: 88.54\n",
      "Validation loss: 1.5748100049460112\n",
      "--------------------------------------------------------------------\n"
     ]
    },
    {
     "name": "stderr",
     "output_type": "stream",
     "text": [
      "100%|██████████| 334/334 [00:05<00:00, 59.56it/s]\n"
     ]
    },
    {
     "name": "stdout",
     "output_type": "stream",
     "text": [
      "Epoch 38\n",
      "Train Accuracy: 90.968\n",
      "Train loss:1.5512885437040271\n"
     ]
    },
    {
     "name": "stderr",
     "output_type": "stream",
     "text": [
      "100%|██████████| 67/67 [00:00<00:00, 71.52it/s]\n"
     ]
    },
    {
     "name": "stdout",
     "output_type": "stream",
     "text": [
      "Validation accuracy: 88.94\n",
      "Validation loss: 1.571948346806996\n",
      "--------------------------------------------------------------------\n"
     ]
    },
    {
     "name": "stderr",
     "output_type": "stream",
     "text": [
      "100%|██████████| 334/334 [00:05<00:00, 61.63it/s]\n"
     ]
    },
    {
     "name": "stdout",
     "output_type": "stream",
     "text": [
      "Epoch 39\n",
      "Train Accuracy: 91.352\n",
      "Train loss:1.547779619693756\n"
     ]
    },
    {
     "name": "stderr",
     "output_type": "stream",
     "text": [
      "100%|██████████| 67/67 [00:00<00:00, 70.34it/s]\n"
     ]
    },
    {
     "name": "stdout",
     "output_type": "stream",
     "text": [
      "Validation accuracy: 88.82\n",
      "Validation loss: 1.5715860341911885\n",
      "--------------------------------------------------------------------\n"
     ]
    },
    {
     "name": "stderr",
     "output_type": "stream",
     "text": [
      "100%|██████████| 334/334 [00:05<00:00, 58.59it/s]\n"
     ]
    },
    {
     "name": "stdout",
     "output_type": "stream",
     "text": [
      "Epoch 40\n",
      "Train Accuracy: 91.332\n",
      "Train loss:1.5478527442423884\n"
     ]
    },
    {
     "name": "stderr",
     "output_type": "stream",
     "text": [
      "100%|██████████| 67/67 [00:00<00:00, 71.30it/s]\n"
     ]
    },
    {
     "name": "stdout",
     "output_type": "stream",
     "text": [
      "Validation accuracy: 88.2\n",
      "Validation loss: 1.5793284284534739\n",
      "--------------------------------------------------------------------\n"
     ]
    },
    {
     "name": "stderr",
     "output_type": "stream",
     "text": [
      "100%|██████████| 334/334 [00:05<00:00, 62.71it/s]\n"
     ]
    },
    {
     "name": "stdout",
     "output_type": "stream",
     "text": [
      "Epoch 41\n",
      "Train Accuracy: 91.344\n",
      "Train loss:1.5480058400216932\n"
     ]
    },
    {
     "name": "stderr",
     "output_type": "stream",
     "text": [
      "100%|██████████| 67/67 [00:01<00:00, 44.87it/s]\n"
     ]
    },
    {
     "name": "stdout",
     "output_type": "stream",
     "text": [
      "Validation accuracy: 87.77\n",
      "Validation loss: 1.5829694110955765\n",
      "--------------------------------------------------------------------\n"
     ]
    },
    {
     "name": "stderr",
     "output_type": "stream",
     "text": [
      "100%|██████████| 334/334 [00:05<00:00, 60.32it/s]\n"
     ]
    },
    {
     "name": "stdout",
     "output_type": "stream",
     "text": [
      "Epoch 42\n",
      "Train Accuracy: 91.326\n",
      "Train loss:1.548000314992345\n"
     ]
    },
    {
     "name": "stderr",
     "output_type": "stream",
     "text": [
      "100%|██████████| 67/67 [00:00<00:00, 73.28it/s]\n"
     ]
    },
    {
     "name": "stdout",
     "output_type": "stream",
     "text": [
      "Validation accuracy: 89.3\n",
      "Validation loss: 1.5686529412198422\n",
      "--------------------------------------------------------------------\n"
     ]
    },
    {
     "name": "stderr",
     "output_type": "stream",
     "text": [
      "100%|██████████| 334/334 [00:05<00:00, 59.64it/s]\n"
     ]
    },
    {
     "name": "stdout",
     "output_type": "stream",
     "text": [
      "Epoch 43\n",
      "Train Accuracy: 91.494\n",
      "Train loss:1.546296029033775\n"
     ]
    },
    {
     "name": "stderr",
     "output_type": "stream",
     "text": [
      "100%|██████████| 67/67 [00:00<00:00, 72.98it/s]\n"
     ]
    },
    {
     "name": "stdout",
     "output_type": "stream",
     "text": [
      "Validation accuracy: 89.16\n",
      "Validation loss: 1.5694146209688329\n",
      "--------------------------------------------------------------------\n"
     ]
    },
    {
     "name": "stderr",
     "output_type": "stream",
     "text": [
      "100%|██████████| 334/334 [00:05<00:00, 63.05it/s]\n"
     ]
    },
    {
     "name": "stdout",
     "output_type": "stream",
     "text": [
      "Epoch 44\n",
      "Train Accuracy: 91.606\n",
      "Train loss:1.5450032799543736\n"
     ]
    },
    {
     "name": "stderr",
     "output_type": "stream",
     "text": [
      "100%|██████████| 67/67 [00:00<00:00, 72.90it/s]\n"
     ]
    },
    {
     "name": "stdout",
     "output_type": "stream",
     "text": [
      "Validation accuracy: 88.95\n",
      "Validation loss: 1.571552009724859\n",
      "--------------------------------------------------------------------\n"
     ]
    },
    {
     "name": "stderr",
     "output_type": "stream",
     "text": [
      "100%|██████████| 334/334 [00:05<00:00, 59.25it/s]\n"
     ]
    },
    {
     "name": "stdout",
     "output_type": "stream",
     "text": [
      "Epoch 45\n",
      "Train Accuracy: 91.628\n",
      "Train loss:1.5448118812309768\n"
     ]
    },
    {
     "name": "stderr",
     "output_type": "stream",
     "text": [
      "100%|██████████| 67/67 [00:00<00:00, 73.08it/s]\n"
     ]
    },
    {
     "name": "stdout",
     "output_type": "stream",
     "text": [
      "Validation accuracy: 89.3\n",
      "Validation loss: 1.5675899484264317\n",
      "--------------------------------------------------------------------\n"
     ]
    },
    {
     "name": "stderr",
     "output_type": "stream",
     "text": [
      "100%|██████████| 334/334 [00:05<00:00, 57.85it/s]\n"
     ]
    },
    {
     "name": "stdout",
     "output_type": "stream",
     "text": [
      "Epoch 46\n",
      "Train Accuracy: 91.872\n",
      "Train loss:1.542560927882166\n"
     ]
    },
    {
     "name": "stderr",
     "output_type": "stream",
     "text": [
      "100%|██████████| 67/67 [00:01<00:00, 49.76it/s]\n"
     ]
    },
    {
     "name": "stdout",
     "output_type": "stream",
     "text": [
      "Validation accuracy: 89.37\n",
      "Validation loss: 1.567537953604513\n",
      "--------------------------------------------------------------------\n"
     ]
    },
    {
     "name": "stderr",
     "output_type": "stream",
     "text": [
      "100%|██████████| 334/334 [00:05<00:00, 63.04it/s]\n"
     ]
    },
    {
     "name": "stdout",
     "output_type": "stream",
     "text": [
      "Epoch 47\n",
      "Train Accuracy: 91.636\n",
      "Train loss:1.5445760310053112\n"
     ]
    },
    {
     "name": "stderr",
     "output_type": "stream",
     "text": [
      "100%|██████████| 67/67 [00:00<00:00, 73.50it/s]\n"
     ]
    },
    {
     "name": "stdout",
     "output_type": "stream",
     "text": [
      "Validation accuracy: 88.85\n",
      "Validation loss: 1.5718082634370718\n",
      "--------------------------------------------------------------------\n"
     ]
    },
    {
     "name": "stderr",
     "output_type": "stream",
     "text": [
      "100%|██████████| 334/334 [00:05<00:00, 60.31it/s]\n"
     ]
    },
    {
     "name": "stdout",
     "output_type": "stream",
     "text": [
      "Epoch 48\n",
      "Train Accuracy: 91.926\n",
      "Train loss:1.5420237055081807\n"
     ]
    },
    {
     "name": "stderr",
     "output_type": "stream",
     "text": [
      "100%|██████████| 67/67 [00:00<00:00, 72.68it/s]\n"
     ]
    },
    {
     "name": "stdout",
     "output_type": "stream",
     "text": [
      "Validation accuracy: 88.84\n",
      "Validation loss: 1.5716563231909453\n",
      "--------------------------------------------------------------------\n"
     ]
    },
    {
     "name": "stderr",
     "output_type": "stream",
     "text": [
      "100%|██████████| 334/334 [00:05<00:00, 61.60it/s]\n"
     ]
    },
    {
     "name": "stdout",
     "output_type": "stream",
     "text": [
      "Epoch 49\n",
      "Train Accuracy: 91.96\n",
      "Train loss:1.5415366281292395\n"
     ]
    },
    {
     "name": "stderr",
     "output_type": "stream",
     "text": [
      "100%|██████████| 67/67 [00:00<00:00, 68.62it/s]\n"
     ]
    },
    {
     "name": "stdout",
     "output_type": "stream",
     "text": [
      "Validation accuracy: 89.38\n",
      "Validation loss: 1.5664178702368665\n",
      "--------------------------------------------------------------------\n"
     ]
    },
    {
     "name": "stderr",
     "output_type": "stream",
     "text": [
      "100%|██████████| 334/334 [00:05<00:00, 57.72it/s]\n"
     ]
    },
    {
     "name": "stdout",
     "output_type": "stream",
     "text": [
      "Epoch 50\n",
      "Train Accuracy: 91.986\n",
      "Train loss:1.5415636072615664\n"
     ]
    },
    {
     "name": "stderr",
     "output_type": "stream",
     "text": [
      "100%|██████████| 67/67 [00:00<00:00, 71.09it/s]\n"
     ]
    },
    {
     "name": "stdout",
     "output_type": "stream",
     "text": [
      "Validation accuracy: 89.13\n",
      "Validation loss: 1.5695631895492326\n",
      "--------------------------------------------------------------------\n"
     ]
    },
    {
     "name": "stderr",
     "output_type": "stream",
     "text": [
      "100%|██████████| 334/334 [00:05<00:00, 56.44it/s]\n"
     ]
    },
    {
     "name": "stdout",
     "output_type": "stream",
     "text": [
      "Epoch 51\n",
      "Train Accuracy: 92.052\n",
      "Train loss:1.5408661301264506\n"
     ]
    },
    {
     "name": "stderr",
     "output_type": "stream",
     "text": [
      "100%|██████████| 67/67 [00:01<00:00, 59.25it/s]\n"
     ]
    },
    {
     "name": "stdout",
     "output_type": "stream",
     "text": [
      "Validation accuracy: 89.16\n",
      "Validation loss: 1.5685660518817048\n",
      "--------------------------------------------------------------------\n"
     ]
    },
    {
     "name": "stderr",
     "output_type": "stream",
     "text": [
      "100%|██████████| 334/334 [00:05<00:00, 62.39it/s]\n"
     ]
    },
    {
     "name": "stdout",
     "output_type": "stream",
     "text": [
      "Epoch 52\n",
      "Train Accuracy: 92.1\n",
      "Train loss:1.5402703013962615\n"
     ]
    },
    {
     "name": "stderr",
     "output_type": "stream",
     "text": [
      "100%|██████████| 67/67 [00:00<00:00, 72.12it/s]\n"
     ]
    },
    {
     "name": "stdout",
     "output_type": "stream",
     "text": [
      "Validation accuracy: 89.29\n",
      "Validation loss: 1.5680875813783104\n",
      "--------------------------------------------------------------------\n"
     ]
    },
    {
     "name": "stderr",
     "output_type": "stream",
     "text": [
      "100%|██████████| 334/334 [00:05<00:00, 58.10it/s]\n"
     ]
    },
    {
     "name": "stdout",
     "output_type": "stream",
     "text": [
      "Epoch 53\n",
      "Train Accuracy: 92.296\n",
      "Train loss:1.5383122863169916\n"
     ]
    },
    {
     "name": "stderr",
     "output_type": "stream",
     "text": [
      "100%|██████████| 67/67 [00:00<00:00, 73.59it/s]\n"
     ]
    },
    {
     "name": "stdout",
     "output_type": "stream",
     "text": [
      "Validation accuracy: 89.37\n",
      "Validation loss: 1.567485615388671\n",
      "--------------------------------------------------------------------\n"
     ]
    },
    {
     "name": "stderr",
     "output_type": "stream",
     "text": [
      "100%|██████████| 334/334 [00:05<00:00, 62.10it/s]\n"
     ]
    },
    {
     "name": "stdout",
     "output_type": "stream",
     "text": [
      "Epoch 54\n",
      "Train Accuracy: 92.374\n",
      "Train loss:1.537285046663113\n"
     ]
    },
    {
     "name": "stderr",
     "output_type": "stream",
     "text": [
      "100%|██████████| 67/67 [00:00<00:00, 72.04it/s]\n"
     ]
    },
    {
     "name": "stdout",
     "output_type": "stream",
     "text": [
      "Validation accuracy: 89.36\n",
      "Validation loss: 1.5674975825779474\n",
      "--------------------------------------------------------------------\n"
     ]
    },
    {
     "name": "stderr",
     "output_type": "stream",
     "text": [
      "100%|██████████| 334/334 [00:05<00:00, 59.86it/s]\n"
     ]
    },
    {
     "name": "stdout",
     "output_type": "stream",
     "text": [
      "Epoch 55\n",
      "Train Accuracy: 92.254\n",
      "Train loss:1.5385178038460052\n"
     ]
    },
    {
     "name": "stderr",
     "output_type": "stream",
     "text": [
      "100%|██████████| 67/67 [00:01<00:00, 64.38it/s]\n"
     ]
    },
    {
     "name": "stdout",
     "output_type": "stream",
     "text": [
      "Validation accuracy: 89.15\n",
      "Validation loss: 1.5686521316642192\n",
      "--------------------------------------------------------------------\n"
     ]
    },
    {
     "name": "stderr",
     "output_type": "stream",
     "text": [
      "100%|██████████| 334/334 [00:05<00:00, 56.41it/s]\n"
     ]
    },
    {
     "name": "stdout",
     "output_type": "stream",
     "text": [
      "Epoch 56\n",
      "Train Accuracy: 92.604\n",
      "Train loss:1.5355128071265307\n"
     ]
    },
    {
     "name": "stderr",
     "output_type": "stream",
     "text": [
      "100%|██████████| 67/67 [00:01<00:00, 59.70it/s]\n"
     ]
    },
    {
     "name": "stdout",
     "output_type": "stream",
     "text": [
      "Validation accuracy: 88.43\n",
      "Validation loss: 1.5760125046345725\n",
      "--------------------------------------------------------------------\n"
     ]
    },
    {
     "name": "stderr",
     "output_type": "stream",
     "text": [
      "100%|██████████| 334/334 [00:05<00:00, 62.57it/s]\n"
     ]
    },
    {
     "name": "stdout",
     "output_type": "stream",
     "text": [
      "Epoch 57\n",
      "Train Accuracy: 92.548\n",
      "Train loss:1.5359086729809195\n"
     ]
    },
    {
     "name": "stderr",
     "output_type": "stream",
     "text": [
      "100%|██████████| 67/67 [00:00<00:00, 72.16it/s]\n"
     ]
    },
    {
     "name": "stdout",
     "output_type": "stream",
     "text": [
      "Validation accuracy: 89.9\n",
      "Validation loss: 1.5618104685598344\n",
      "--------------------------------------------------------------------\n"
     ]
    },
    {
     "name": "stderr",
     "output_type": "stream",
     "text": [
      "100%|██████████| 334/334 [00:05<00:00, 58.24it/s]\n"
     ]
    },
    {
     "name": "stdout",
     "output_type": "stream",
     "text": [
      "Epoch 58\n",
      "Train Accuracy: 92.71\n",
      "Train loss:1.5342688114343288\n"
     ]
    },
    {
     "name": "stderr",
     "output_type": "stream",
     "text": [
      "100%|██████████| 67/67 [00:00<00:00, 68.81it/s]\n"
     ]
    },
    {
     "name": "stdout",
     "output_type": "stream",
     "text": [
      "Validation accuracy: 89.5\n",
      "Validation loss: 1.5654453697489268\n",
      "--------------------------------------------------------------------\n"
     ]
    },
    {
     "name": "stderr",
     "output_type": "stream",
     "text": [
      "100%|██████████| 334/334 [00:05<00:00, 61.19it/s]\n"
     ]
    },
    {
     "name": "stdout",
     "output_type": "stream",
     "text": [
      "Epoch 59\n",
      "Train Accuracy: 92.612\n",
      "Train loss:1.5354845245441278\n"
     ]
    },
    {
     "name": "stderr",
     "output_type": "stream",
     "text": [
      "100%|██████████| 67/67 [00:00<00:00, 71.12it/s]\n"
     ]
    },
    {
     "name": "stdout",
     "output_type": "stream",
     "text": [
      "Validation accuracy: 89.2\n",
      "Validation loss: 1.569018340822476\n",
      "--------------------------------------------------------------------\n"
     ]
    },
    {
     "name": "stderr",
     "output_type": "stream",
     "text": [
      "100%|██████████| 334/334 [00:05<00:00, 57.99it/s]\n"
     ]
    },
    {
     "name": "stdout",
     "output_type": "stream",
     "text": [
      "Epoch 60\n",
      "Train Accuracy: 92.696\n",
      "Train loss:1.534508122298532\n"
     ]
    },
    {
     "name": "stderr",
     "output_type": "stream",
     "text": [
      "100%|██████████| 67/67 [00:00<00:00, 72.82it/s]\n"
     ]
    },
    {
     "name": "stdout",
     "output_type": "stream",
     "text": [
      "Validation accuracy: 89.17\n",
      "Validation loss: 1.5681517533401945\n",
      "--------------------------------------------------------------------\n"
     ]
    },
    {
     "name": "stderr",
     "output_type": "stream",
     "text": [
      "100%|██████████| 334/334 [00:05<00:00, 56.67it/s]\n"
     ]
    },
    {
     "name": "stdout",
     "output_type": "stream",
     "text": [
      "Epoch 61\n",
      "Train Accuracy: 92.998\n",
      "Train loss:1.531769335269928\n"
     ]
    },
    {
     "name": "stderr",
     "output_type": "stream",
     "text": [
      "100%|██████████| 67/67 [00:01<00:00, 60.74it/s]\n"
     ]
    },
    {
     "name": "stdout",
     "output_type": "stream",
     "text": [
      "Validation accuracy: 88.79\n",
      "Validation loss: 1.5721525736709139\n",
      "--------------------------------------------------------------------\n"
     ]
    },
    {
     "name": "stderr",
     "output_type": "stream",
     "text": [
      "100%|██████████| 334/334 [00:05<00:00, 62.33it/s]\n"
     ]
    },
    {
     "name": "stdout",
     "output_type": "stream",
     "text": [
      "Epoch 62\n",
      "Train Accuracy: 92.86\n",
      "Train loss:1.5325383451170551\n"
     ]
    },
    {
     "name": "stderr",
     "output_type": "stream",
     "text": [
      "100%|██████████| 67/67 [00:00<00:00, 72.01it/s]\n"
     ]
    },
    {
     "name": "stdout",
     "output_type": "stream",
     "text": [
      "Validation accuracy: 89.36\n",
      "Validation loss: 1.5668398088483668\n",
      "--------------------------------------------------------------------\n"
     ]
    },
    {
     "name": "stderr",
     "output_type": "stream",
     "text": [
      "100%|██████████| 334/334 [00:05<00:00, 58.04it/s]\n"
     ]
    },
    {
     "name": "stdout",
     "output_type": "stream",
     "text": [
      "Epoch 63\n",
      "Train Accuracy: 92.804\n",
      "Train loss:1.533560899560323\n"
     ]
    },
    {
     "name": "stderr",
     "output_type": "stream",
     "text": [
      "100%|██████████| 67/67 [00:00<00:00, 71.21it/s]\n"
     ]
    },
    {
     "name": "stdout",
     "output_type": "stream",
     "text": [
      "Validation accuracy: 89.34\n",
      "Validation loss: 1.5675970725159147\n",
      "--------------------------------------------------------------------\n"
     ]
    },
    {
     "name": "stderr",
     "output_type": "stream",
     "text": [
      "100%|██████████| 334/334 [00:05<00:00, 62.53it/s]\n"
     ]
    },
    {
     "name": "stdout",
     "output_type": "stream",
     "text": [
      "Epoch 64\n",
      "Train Accuracy: 92.934\n",
      "Train loss:1.532131473461311\n"
     ]
    },
    {
     "name": "stderr",
     "output_type": "stream",
     "text": [
      "100%|██████████| 67/67 [00:00<00:00, 72.98it/s]\n"
     ]
    },
    {
     "name": "stdout",
     "output_type": "stream",
     "text": [
      "Validation accuracy: 89.41\n",
      "Validation loss: 1.5667889580797794\n",
      "--------------------------------------------------------------------\n"
     ]
    },
    {
     "name": "stderr",
     "output_type": "stream",
     "text": [
      "100%|██████████| 334/334 [00:05<00:00, 57.32it/s]\n"
     ]
    },
    {
     "name": "stdout",
     "output_type": "stream",
     "text": [
      "Epoch 65\n",
      "Train Accuracy: 93.14\n",
      "Train loss:1.5298764166717758\n"
     ]
    },
    {
     "name": "stderr",
     "output_type": "stream",
     "text": [
      "100%|██████████| 67/67 [00:01<00:00, 51.60it/s]\n"
     ]
    },
    {
     "name": "stdout",
     "output_type": "stream",
     "text": [
      "Validation accuracy: 89.43\n",
      "Validation loss: 1.5670323781113127\n",
      "--------------------------------------------------------------------\n"
     ]
    },
    {
     "name": "stderr",
     "output_type": "stream",
     "text": [
      "100%|██████████| 334/334 [00:05<00:00, 61.35it/s]\n"
     ]
    },
    {
     "name": "stdout",
     "output_type": "stream",
     "text": [
      "Epoch 66\n",
      "Train Accuracy: 93.208\n",
      "Train loss:1.5294101273942136\n"
     ]
    },
    {
     "name": "stderr",
     "output_type": "stream",
     "text": [
      "100%|██████████| 67/67 [00:01<00:00, 59.95it/s]\n"
     ]
    },
    {
     "name": "stdout",
     "output_type": "stream",
     "text": [
      "Validation accuracy: 89.73\n",
      "Validation loss: 1.5640821492494041\n",
      "--------------------------------------------------------------------\n"
     ]
    },
    {
     "name": "stderr",
     "output_type": "stream",
     "text": [
      "100%|██████████| 334/334 [00:05<00:00, 59.69it/s]\n"
     ]
    },
    {
     "name": "stdout",
     "output_type": "stream",
     "text": [
      "Epoch 67\n",
      "Train Accuracy: 93.058\n",
      "Train loss:1.5306842177214024\n"
     ]
    },
    {
     "name": "stderr",
     "output_type": "stream",
     "text": [
      "100%|██████████| 67/67 [00:00<00:00, 67.77it/s]\n"
     ]
    },
    {
     "name": "stdout",
     "output_type": "stream",
     "text": [
      "Validation accuracy: 89.44\n",
      "Validation loss: 1.5664176069088835\n",
      "--------------------------------------------------------------------\n"
     ]
    },
    {
     "name": "stderr",
     "output_type": "stream",
     "text": [
      "100%|██████████| 334/334 [00:05<00:00, 59.89it/s]\n"
     ]
    },
    {
     "name": "stdout",
     "output_type": "stream",
     "text": [
      "Epoch 68\n",
      "Train Accuracy: 93.05\n",
      "Train loss:1.530697102318267\n"
     ]
    },
    {
     "name": "stderr",
     "output_type": "stream",
     "text": [
      "100%|██████████| 67/67 [00:00<00:00, 72.88it/s]\n"
     ]
    },
    {
     "name": "stdout",
     "output_type": "stream",
     "text": [
      "Validation accuracy: 89.61\n",
      "Validation loss: 1.56509954359994\n",
      "--------------------------------------------------------------------\n"
     ]
    },
    {
     "name": "stderr",
     "output_type": "stream",
     "text": [
      "100%|██████████| 334/334 [00:05<00:00, 61.27it/s]\n"
     ]
    },
    {
     "name": "stdout",
     "output_type": "stream",
     "text": [
      "Epoch 69\n",
      "Train Accuracy: 93.256\n",
      "Train loss:1.5291413907519358\n"
     ]
    },
    {
     "name": "stderr",
     "output_type": "stream",
     "text": [
      "100%|██████████| 67/67 [00:01<00:00, 66.82it/s]\n"
     ]
    },
    {
     "name": "stdout",
     "output_type": "stream",
     "text": [
      "Validation accuracy: 89.58\n",
      "Validation loss: 1.5653859003266293\n",
      "--------------------------------------------------------------------\n"
     ]
    },
    {
     "name": "stderr",
     "output_type": "stream",
     "text": [
      "100%|██████████| 334/334 [00:05<00:00, 56.16it/s]\n"
     ]
    },
    {
     "name": "stdout",
     "output_type": "stream",
     "text": [
      "Epoch 70\n",
      "Train Accuracy: 93.236\n",
      "Train loss:1.5291115580918546\n"
     ]
    },
    {
     "name": "stderr",
     "output_type": "stream",
     "text": [
      "100%|██████████| 67/67 [00:00<00:00, 71.60it/s]\n"
     ]
    },
    {
     "name": "stdout",
     "output_type": "stream",
     "text": [
      "Validation accuracy: 89.7\n",
      "Validation loss: 1.5638139390233736\n",
      "--------------------------------------------------------------------\n"
     ]
    },
    {
     "name": "stderr",
     "output_type": "stream",
     "text": [
      "100%|██████████| 334/334 [00:05<00:00, 62.51it/s]\n"
     ]
    },
    {
     "name": "stdout",
     "output_type": "stream",
     "text": [
      "Epoch 71\n",
      "Train Accuracy: 93.268\n",
      "Train loss:1.5286828475797962\n"
     ]
    },
    {
     "name": "stderr",
     "output_type": "stream",
     "text": [
      "100%|██████████| 67/67 [00:01<00:00, 59.32it/s]\n"
     ]
    },
    {
     "name": "stdout",
     "output_type": "stream",
     "text": [
      "Validation accuracy: 89.15\n",
      "Validation loss: 1.5690008828889077\n",
      "--------------------------------------------------------------------\n"
     ]
    },
    {
     "name": "stderr",
     "output_type": "stream",
     "text": [
      "100%|██████████| 334/334 [00:05<00:00, 61.23it/s]\n"
     ]
    },
    {
     "name": "stdout",
     "output_type": "stream",
     "text": [
      "Epoch 72\n",
      "Train Accuracy: 93.158\n",
      "Train loss:1.529866777851196\n"
     ]
    },
    {
     "name": "stderr",
     "output_type": "stream",
     "text": [
      "100%|██████████| 67/67 [00:00<00:00, 73.43it/s]\n"
     ]
    },
    {
     "name": "stdout",
     "output_type": "stream",
     "text": [
      "Validation accuracy: 89.27\n",
      "Validation loss: 1.568521958678516\n",
      "--------------------------------------------------------------------\n"
     ]
    },
    {
     "name": "stderr",
     "output_type": "stream",
     "text": [
      "100%|██████████| 334/334 [00:05<00:00, 59.83it/s]\n"
     ]
    },
    {
     "name": "stdout",
     "output_type": "stream",
     "text": [
      "Epoch 73\n",
      "Train Accuracy: 93.31\n",
      "Train loss:1.5281903101298624\n"
     ]
    },
    {
     "name": "stderr",
     "output_type": "stream",
     "text": [
      "100%|██████████| 67/67 [00:00<00:00, 72.43it/s]\n"
     ]
    },
    {
     "name": "stdout",
     "output_type": "stream",
     "text": [
      "Validation accuracy: 89.53\n",
      "Validation loss: 1.5653848078713488\n",
      "--------------------------------------------------------------------\n"
     ]
    },
    {
     "name": "stderr",
     "output_type": "stream",
     "text": [
      "100%|██████████| 334/334 [00:05<00:00, 59.75it/s]\n"
     ]
    },
    {
     "name": "stdout",
     "output_type": "stream",
     "text": [
      "Epoch 74\n",
      "Train Accuracy: 93.436\n",
      "Train loss:1.5269022751711085\n"
     ]
    },
    {
     "name": "stderr",
     "output_type": "stream",
     "text": [
      "100%|██████████| 67/67 [00:01<00:00, 60.88it/s]\n"
     ]
    },
    {
     "name": "stdout",
     "output_type": "stream",
     "text": [
      "Validation accuracy: 89.75\n",
      "Validation loss: 1.5640841597941384\n",
      "--------------------------------------------------------------------\n"
     ]
    },
    {
     "name": "stderr",
     "output_type": "stream",
     "text": [
      "100%|██████████| 334/334 [00:06<00:00, 55.01it/s]\n"
     ]
    },
    {
     "name": "stdout",
     "output_type": "stream",
     "text": [
      "Epoch 75\n",
      "Train Accuracy: 93.57\n",
      "Train loss:1.5255041076037699\n"
     ]
    },
    {
     "name": "stderr",
     "output_type": "stream",
     "text": [
      "100%|██████████| 67/67 [00:00<00:00, 70.90it/s]\n"
     ]
    },
    {
     "name": "stdout",
     "output_type": "stream",
     "text": [
      "Validation accuracy: 89.5\n",
      "Validation loss: 1.5655324387906202\n",
      "--------------------------------------------------------------------\n"
     ]
    },
    {
     "name": "stderr",
     "output_type": "stream",
     "text": [
      "100%|██████████| 334/334 [00:05<00:00, 59.93it/s]\n"
     ]
    },
    {
     "name": "stdout",
     "output_type": "stream",
     "text": [
      "Epoch 76\n",
      "Train Accuracy: 93.42\n",
      "Train loss:1.5271226717326456\n"
     ]
    },
    {
     "name": "stderr",
     "output_type": "stream",
     "text": [
      "100%|██████████| 67/67 [00:01<00:00, 66.83it/s]\n"
     ]
    },
    {
     "name": "stdout",
     "output_type": "stream",
     "text": [
      "Validation accuracy: 89.66\n",
      "Validation loss: 1.5642441742455782\n",
      "--------------------------------------------------------------------\n"
     ]
    },
    {
     "name": "stderr",
     "output_type": "stream",
     "text": [
      "100%|██████████| 334/334 [00:05<00:00, 62.28it/s]\n"
     ]
    },
    {
     "name": "stdout",
     "output_type": "stream",
     "text": [
      "Epoch 77\n",
      "Train Accuracy: 93.58\n",
      "Train loss:1.5256845262236225\n"
     ]
    },
    {
     "name": "stderr",
     "output_type": "stream",
     "text": [
      "100%|██████████| 67/67 [00:00<00:00, 73.14it/s]\n"
     ]
    },
    {
     "name": "stdout",
     "output_type": "stream",
     "text": [
      "Validation accuracy: 89.65\n",
      "Validation loss: 1.5642681993655305\n",
      "--------------------------------------------------------------------\n"
     ]
    },
    {
     "name": "stderr",
     "output_type": "stream",
     "text": [
      "100%|██████████| 334/334 [00:05<00:00, 59.78it/s]\n"
     ]
    },
    {
     "name": "stdout",
     "output_type": "stream",
     "text": [
      "Epoch 78\n",
      "Train Accuracy: 93.544\n",
      "Train loss:1.5257434002653567\n"
     ]
    },
    {
     "name": "stderr",
     "output_type": "stream",
     "text": [
      "100%|██████████| 67/67 [00:00<00:00, 72.35it/s]\n"
     ]
    },
    {
     "name": "stdout",
     "output_type": "stream",
     "text": [
      "Validation accuracy: 89.62\n",
      "Validation loss: 1.5639234016190713\n",
      "--------------------------------------------------------------------\n"
     ]
    },
    {
     "name": "stderr",
     "output_type": "stream",
     "text": [
      "100%|██████████| 334/334 [00:05<00:00, 61.09it/s]\n"
     ]
    },
    {
     "name": "stdout",
     "output_type": "stream",
     "text": [
      "Epoch 79\n",
      "Train Accuracy: 93.66\n",
      "Train loss:1.5246423440065213\n"
     ]
    },
    {
     "name": "stderr",
     "output_type": "stream",
     "text": [
      "100%|██████████| 67/67 [00:00<00:00, 67.72it/s]\n"
     ]
    },
    {
     "name": "stdout",
     "output_type": "stream",
     "text": [
      "Validation accuracy: 89.51\n",
      "Validation loss: 1.5657767110796117\n",
      "--------------------------------------------------------------------\n"
     ]
    },
    {
     "name": "stderr",
     "output_type": "stream",
     "text": [
      "100%|██████████| 334/334 [00:06<00:00, 54.66it/s]\n"
     ]
    },
    {
     "name": "stdout",
     "output_type": "stream",
     "text": [
      "Epoch 80\n",
      "Train Accuracy: 93.7\n",
      "Train loss:1.5242087569779266\n"
     ]
    },
    {
     "name": "stderr",
     "output_type": "stream",
     "text": [
      "100%|██████████| 67/67 [00:00<00:00, 71.29it/s]\n"
     ]
    },
    {
     "name": "stdout",
     "output_type": "stream",
     "text": [
      "Validation accuracy: 89.31\n",
      "Validation loss: 1.568573307635179\n",
      "--------------------------------------------------------------------\n"
     ]
    },
    {
     "name": "stderr",
     "output_type": "stream",
     "text": [
      "100%|██████████| 334/334 [00:05<00:00, 60.90it/s]\n"
     ]
    },
    {
     "name": "stdout",
     "output_type": "stream",
     "text": [
      "Epoch 81\n",
      "Train Accuracy: 93.8\n",
      "Train loss:1.523237582095369\n"
     ]
    },
    {
     "name": "stderr",
     "output_type": "stream",
     "text": [
      "100%|██████████| 67/67 [00:01<00:00, 62.62it/s]\n"
     ]
    },
    {
     "name": "stdout",
     "output_type": "stream",
     "text": [
      "Validation accuracy: 89.53\n",
      "Validation loss: 1.5652901201105829\n",
      "--------------------------------------------------------------------\n"
     ]
    },
    {
     "name": "stderr",
     "output_type": "stream",
     "text": [
      "100%|██████████| 334/334 [00:05<00:00, 63.02it/s]\n"
     ]
    },
    {
     "name": "stdout",
     "output_type": "stream",
     "text": [
      "Epoch 82\n",
      "Train Accuracy: 93.796\n",
      "Train loss:1.5235129048724374\n"
     ]
    },
    {
     "name": "stderr",
     "output_type": "stream",
     "text": [
      "100%|██████████| 67/67 [00:00<00:00, 71.86it/s]\n"
     ]
    },
    {
     "name": "stdout",
     "output_type": "stream",
     "text": [
      "Validation accuracy: 89.63\n",
      "Validation loss: 1.5643197778445572\n",
      "--------------------------------------------------------------------\n"
     ]
    },
    {
     "name": "stderr",
     "output_type": "stream",
     "text": [
      "100%|██████████| 334/334 [00:05<00:00, 59.59it/s]\n"
     ]
    },
    {
     "name": "stdout",
     "output_type": "stream",
     "text": [
      "Epoch 83\n",
      "Train Accuracy: 93.606\n",
      "Train loss:1.525235019401162\n"
     ]
    },
    {
     "name": "stderr",
     "output_type": "stream",
     "text": [
      "100%|██████████| 67/67 [00:00<00:00, 72.97it/s]\n"
     ]
    },
    {
     "name": "stdout",
     "output_type": "stream",
     "text": [
      "Validation accuracy: 89.71\n",
      "Validation loss: 1.5640240427273422\n",
      "--------------------------------------------------------------------\n"
     ]
    },
    {
     "name": "stderr",
     "output_type": "stream",
     "text": [
      "100%|██████████| 334/334 [00:05<00:00, 61.63it/s]\n"
     ]
    },
    {
     "name": "stdout",
     "output_type": "stream",
     "text": [
      "Epoch 84\n",
      "Train Accuracy: 93.854\n",
      "Train loss:1.522862451162167\n"
     ]
    },
    {
     "name": "stderr",
     "output_type": "stream",
     "text": [
      "100%|██████████| 67/67 [00:00<00:00, 71.27it/s]\n"
     ]
    },
    {
     "name": "stdout",
     "output_type": "stream",
     "text": [
      "Validation accuracy: 89.87\n",
      "Validation loss: 1.5624281577209929\n",
      "--------------------------------------------------------------------\n"
     ]
    },
    {
     "name": "stderr",
     "output_type": "stream",
     "text": [
      "100%|██████████| 334/334 [00:06<00:00, 55.17it/s]\n"
     ]
    },
    {
     "name": "stdout",
     "output_type": "stream",
     "text": [
      "Epoch 85\n",
      "Train Accuracy: 93.804\n",
      "Train loss:1.5233698790658734\n"
     ]
    },
    {
     "name": "stderr",
     "output_type": "stream",
     "text": [
      "100%|██████████| 67/67 [00:00<00:00, 69.16it/s]\n"
     ]
    },
    {
     "name": "stdout",
     "output_type": "stream",
     "text": [
      "Validation accuracy: 89.41\n",
      "Validation loss: 1.5660317815951448\n",
      "--------------------------------------------------------------------\n"
     ]
    },
    {
     "name": "stderr",
     "output_type": "stream",
     "text": [
      "100%|██████████| 334/334 [00:05<00:00, 61.07it/s]\n"
     ]
    },
    {
     "name": "stdout",
     "output_type": "stream",
     "text": [
      "Epoch 86\n",
      "Train Accuracy: 93.95\n",
      "Train loss:1.5219646920700987\n"
     ]
    },
    {
     "name": "stderr",
     "output_type": "stream",
     "text": [
      "100%|██████████| 67/67 [00:01<00:00, 57.19it/s]\n"
     ]
    },
    {
     "name": "stdout",
     "output_type": "stream",
     "text": [
      "Validation accuracy: 89.65\n",
      "Validation loss: 1.5639401069327967\n",
      "--------------------------------------------------------------------\n"
     ]
    },
    {
     "name": "stderr",
     "output_type": "stream",
     "text": [
      "100%|██████████| 334/334 [00:05<00:00, 62.52it/s]\n"
     ]
    },
    {
     "name": "stdout",
     "output_type": "stream",
     "text": [
      "Epoch 87\n",
      "Train Accuracy: 93.968\n",
      "Train loss:1.521762148705785\n"
     ]
    },
    {
     "name": "stderr",
     "output_type": "stream",
     "text": [
      "100%|██████████| 67/67 [00:00<00:00, 71.10it/s]\n"
     ]
    },
    {
     "name": "stdout",
     "output_type": "stream",
     "text": [
      "Validation accuracy: 89.07\n",
      "Validation loss: 1.5691106088125883\n",
      "--------------------------------------------------------------------\n"
     ]
    },
    {
     "name": "stderr",
     "output_type": "stream",
     "text": [
      "100%|██████████| 334/334 [00:05<00:00, 58.80it/s]\n"
     ]
    },
    {
     "name": "stdout",
     "output_type": "stream",
     "text": [
      "Epoch 88\n",
      "Train Accuracy: 93.712\n",
      "Train loss:1.5239934635733416\n"
     ]
    },
    {
     "name": "stderr",
     "output_type": "stream",
     "text": [
      "100%|██████████| 67/67 [00:00<00:00, 72.99it/s]\n"
     ]
    },
    {
     "name": "stdout",
     "output_type": "stream",
     "text": [
      "Validation accuracy: 89.18\n",
      "Validation loss: 1.5689872948091421\n",
      "--------------------------------------------------------------------\n"
     ]
    },
    {
     "name": "stderr",
     "output_type": "stream",
     "text": [
      "100%|██████████| 334/334 [00:05<00:00, 60.26it/s]\n"
     ]
    },
    {
     "name": "stdout",
     "output_type": "stream",
     "text": [
      "Epoch 89\n",
      "Train Accuracy: 93.84\n",
      "Train loss:1.5228316405576146\n"
     ]
    },
    {
     "name": "stderr",
     "output_type": "stream",
     "text": [
      "100%|██████████| 67/67 [00:01<00:00, 57.38it/s]\n"
     ]
    },
    {
     "name": "stdout",
     "output_type": "stream",
     "text": [
      "Validation accuracy: 89.37\n",
      "Validation loss: 1.5668177693637448\n",
      "--------------------------------------------------------------------\n"
     ]
    },
    {
     "name": "stderr",
     "output_type": "stream",
     "text": [
      "100%|██████████| 334/334 [00:05<00:00, 58.81it/s]\n"
     ]
    },
    {
     "name": "stdout",
     "output_type": "stream",
     "text": [
      "Epoch 90\n",
      "Train Accuracy: 93.832\n",
      "Train loss:1.5230277476910346\n"
     ]
    },
    {
     "name": "stderr",
     "output_type": "stream",
     "text": [
      "100%|██████████| 67/67 [00:00<00:00, 72.42it/s]"
     ]
    },
    {
     "name": "stdout",
     "output_type": "stream",
     "text": [
      "Validation accuracy: 89.52\n",
      "Validation loss: 1.5660028866867521\n",
      "--------------------------------------------------------------------\n",
      "Done!\n"
     ]
    },
    {
     "name": "stderr",
     "output_type": "stream",
     "text": [
      "\n"
     ]
    }
   ],
   "source": [
    "train_accuracy=[]\n",
    "validation_accuracy=[]\n",
    "losses = [] \n",
    "validation_loss=[]\n",
    "train(model, trainloader, num_epoch)"
   ]
  },
  {
   "cell_type": "markdown",
   "metadata": {
    "id": "OaSu_yArQElX"
   },
   "source": [
    "**PLOTTING THE TRAINING LOSS AND VALIDATION LOSS ACROSS INTERATIONS**"
   ]
  },
  {
   "cell_type": "code",
   "execution_count": 496,
   "metadata": {
    "execution": {
     "iopub.execute_input": "2022-09-27T06:02:03.902018Z",
     "iopub.status.busy": "2022-09-27T06:02:03.901265Z",
     "iopub.status.idle": "2022-09-27T06:02:04.150154Z",
     "shell.execute_reply": "2022-09-27T06:02:04.149066Z",
     "shell.execute_reply.started": "2022-09-27T06:02:03.901980Z"
    },
    "id": "Bq-kkSaw_d3B",
    "outputId": "1adf3763-af9f-47d0-e2da-b242b2498a22"
   },
   "outputs": [
    {
     "data": {
      "text/plain": [
       "<matplotlib.legend.Legend at 0x7f03b3641610>"
      ]
     },
     "execution_count": 496,
     "metadata": {},
     "output_type": "execute_result"
    },
    {
     "data": {
      "image/png": "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\n",
      "text/plain": [
       "<Figure size 432x288 with 1 Axes>"
      ]
     },
     "metadata": {
      "needs_background": "light"
     },
     "output_type": "display_data"
    }
   ],
   "source": [
    "epoch_x_axis=[]\n",
    "for i in range(num_epoch):\n",
    "  epoch_x_axis.append(i+1)\n",
    "p = sns.lineplot(epoch_x_axis,losses)\n",
    "p = sns.lineplot(epoch_x_axis, validation_loss)\n",
    "p.set_xlabel('Epochs')\n",
    "p.set_ylabel('Loss')\n",
    "p.set_title('Epochs Vs Loss')\n",
    "p.legend(['Train Loss', 'Validation Loss'])\n"
   ]
  },
  {
   "cell_type": "code",
   "execution_count": 497,
   "metadata": {
    "execution": {
     "iopub.execute_input": "2022-09-27T06:02:04.154725Z",
     "iopub.status.busy": "2022-09-27T06:02:04.154439Z",
     "iopub.status.idle": "2022-09-27T06:02:04.406944Z",
     "shell.execute_reply": "2022-09-27T06:02:04.406104Z",
     "shell.execute_reply.started": "2022-09-27T06:02:04.154693Z"
    },
    "id": "3KX8FCPkTv_q",
    "outputId": "9e2b1b78-6fc9-4318-a8ad-5e1cb9f71842"
   },
   "outputs": [
    {
     "data": {
      "text/plain": [
       "<matplotlib.legend.Legend at 0x7f03b1792150>"
      ]
     },
     "execution_count": 497,
     "metadata": {},
     "output_type": "execute_result"
    },
    {
     "data": {
      "image/png": "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\n",
      "text/plain": [
       "<Figure size 432x288 with 1 Axes>"
      ]
     },
     "metadata": {
      "needs_background": "light"
     },
     "output_type": "display_data"
    }
   ],
   "source": [
    "p2 = sns.lineplot(epoch_x_axis,train_accuracy)\n",
    "p2 = sns.lineplot(epoch_x_axis, validation_accuracy)\n",
    "p2.set_xlabel('Epochs')\n",
    "p2.set_ylabel('Accuracy')\n",
    "p2.set_title('Epochs Vs Accuracy')\n",
    "p2.legend(['Train Accuracy', 'Validation Accuracy'])"
   ]
  },
  {
   "cell_type": "code",
   "execution_count": 498,
   "metadata": {
    "execution": {
     "iopub.execute_input": "2022-09-27T06:02:04.408764Z",
     "iopub.status.busy": "2022-09-27T06:02:04.408415Z",
     "iopub.status.idle": "2022-09-27T06:02:04.414002Z",
     "shell.execute_reply": "2022-09-27T06:02:04.413005Z",
     "shell.execute_reply.started": "2022-09-27T06:02:04.408729Z"
    },
    "id": "OVwHjjJVF6P5",
    "outputId": "2df5f5e7-6d75-4fb0-dbb8-52e2289fd769"
   },
   "outputs": [],
   "source": [
    "# validation_evaluate(model,valloader)"
   ]
  },
  {
   "cell_type": "markdown",
   "metadata": {},
   "source": [
    "**TEST THE MODEL ON TEST DATA**"
   ]
  },
  {
   "cell_type": "code",
   "execution_count": 499,
   "metadata": {
    "execution": {
     "iopub.execute_input": "2022-09-27T06:02:04.416101Z",
     "iopub.status.busy": "2022-09-27T06:02:04.415447Z",
     "iopub.status.idle": "2022-09-27T06:02:13.130928Z",
     "shell.execute_reply": "2022-09-27T06:02:13.129824Z",
     "shell.execute_reply.started": "2022-09-27T06:02:04.416015Z"
    },
    "id": "oVyNkgFvi713",
    "outputId": "6676bbf7-7ed9-4132-f985-d79409868ff5"
   },
   "outputs": [
    {
     "name": "stdout",
     "output_type": "stream",
     "text": [
      "Evaluate on test set\n"
     ]
    },
    {
     "name": "stderr",
     "output_type": "stream",
     "text": [
      "100%|██████████| 10000/10000 [00:08<00:00, 1149.43it/s]"
     ]
    },
    {
     "name": "stdout",
     "output_type": "stream",
     "text": [
      "Evaluating test accuracy: 89.2\n"
     ]
    },
    {
     "name": "stderr",
     "output_type": "stream",
     "text": [
      "\n"
     ]
    },
    {
     "data": {
      "text/plain": [
       "89.2"
      ]
     },
     "execution_count": 499,
     "metadata": {},
     "output_type": "execute_result"
    }
   ],
   "source": [
    "print(\"Evaluate on test set\")\n",
    "test_evaluate(model, testloader)"
   ]
  },
  {
   "cell_type": "markdown",
   "metadata": {},
   "source": [
    "**SAVING THE MODEL**"
   ]
  },
  {
   "cell_type": "code",
   "execution_count": 500,
   "metadata": {
    "execution": {
     "iopub.execute_input": "2022-09-27T06:02:13.133395Z",
     "iopub.status.busy": "2022-09-27T06:02:13.132596Z",
     "iopub.status.idle": "2022-09-27T06:02:13.142456Z",
     "shell.execute_reply": "2022-09-27T06:02:13.141435Z",
     "shell.execute_reply.started": "2022-09-27T06:02:13.133355Z"
    },
    "id": "Hq5dC__hM9aq"
   },
   "outputs": [],
   "source": [
    "torch.save(model, 'save_model.pt')"
   ]
  },
  {
   "cell_type": "markdown",
   "metadata": {},
   "source": [
    "**LOADING THE PRETRAINED MODEL FOR ATTACK. Note: In this case we are already using the above trained model to attack that is why we can comment the below line.**"
   ]
  },
  {
   "cell_type": "code",
   "execution_count": 501,
   "metadata": {
    "execution": {
     "iopub.execute_input": "2022-09-27T06:02:13.145237Z",
     "iopub.status.busy": "2022-09-27T06:02:13.144277Z",
     "iopub.status.idle": "2022-09-27T06:02:13.149961Z",
     "shell.execute_reply": "2022-09-27T06:02:13.148586Z",
     "shell.execute_reply.started": "2022-09-27T06:02:13.145203Z"
    }
   },
   "outputs": [],
   "source": [
    "# new_model = torch.load('../input/lenets/save_model.pt',map_location=torch.device('cpu')) "
   ]
  },
  {
   "cell_type": "markdown",
   "metadata": {},
   "source": [
    "**ATTACK SECTION**"
   ]
  },
  {
   "cell_type": "markdown",
   "metadata": {
    "id": "K_QYmGBaNAOA"
   },
   "source": [
    "**DEFINING FGSM ATTACK FUNCTION USING THE FORMULA**"
   ]
  },
  {
   "cell_type": "code",
   "execution_count": 502,
   "metadata": {
    "execution": {
     "iopub.execute_input": "2022-09-27T06:02:13.151816Z",
     "iopub.status.busy": "2022-09-27T06:02:13.151315Z",
     "iopub.status.idle": "2022-09-27T06:02:13.158252Z",
     "shell.execute_reply": "2022-09-27T06:02:13.157289Z",
     "shell.execute_reply.started": "2022-09-27T06:02:13.151773Z"
    },
    "id": "yCIFuFZXGMqh"
   },
   "outputs": [],
   "source": [
    "def fgsm(model, X, y, epsilon):\n",
    "    delta = torch.zeros_like(X, requires_grad=True)\n",
    "    loss = nn.CrossEntropyLoss()(model(X + delta), y)\n",
    "    loss.backward()\n",
    "    return epsilon * delta.grad.detach().sign()"
   ]
  },
  {
   "cell_type": "code",
   "execution_count": 503,
   "metadata": {
    "execution": {
     "iopub.execute_input": "2022-09-27T06:02:13.160526Z",
     "iopub.status.busy": "2022-09-27T06:02:13.159822Z",
     "iopub.status.idle": "2022-09-27T06:02:13.169253Z",
     "shell.execute_reply": "2022-09-27T06:02:13.168477Z",
     "shell.execute_reply.started": "2022-09-27T06:02:13.160492Z"
    },
    "id": "zlaaHn9BGOmq"
   },
   "outputs": [],
   "source": [
    "def fgsm_attack(model, test, epsilon):\n",
    "  fgsm_ASR = 0\n",
    "  correct=0\n",
    "  c1=0\n",
    "  original_count=0\n",
    "  for X,y in test:\n",
    "      X,y = X.to(device), y.to(device)\n",
    "#       print(y)\n",
    "      yp = model(X)\n",
    "      # print(yp)\n",
    "      finalpredclass=  yp.max(1, keepdim=True)[1]\n",
    "      # print(finalpredclass)\n",
    "      delta = fgsm(model, X, y, epsilon)\n",
    "      ypfgsm = model(X + delta)\n",
    "      # print(ypfgsm)\n",
    "      finalypfgsm=  ypfgsm.max(1, keepdim=True)[1]\n",
    "#       print(finalypfgsm.flatten())\n",
    "      if torch.eq(finalpredclass,y):\n",
    "        original_count = original_count+1\n",
    "      if torch.eq(finalypfgsm,finalpredclass ):\n",
    "        c1=c1+1\n",
    "      if torch.eq(finalypfgsm,y):\n",
    "        correct = correct+1\n",
    "  y = original_count/100\n",
    "  post_attack_accuracy = correct*100/len(testloader)\n",
    "  fgsm_ASR = (y-post_attack_accuracy)*100/y\n",
    "#   print(original_count)\n",
    "#   print(c1)\n",
    "  return post_attack_accuracy, fgsm_ASR"
   ]
  },
  {
   "cell_type": "markdown",
   "metadata": {
    "id": "sFFVTaJKNEOk"
   },
   "source": [
    "**CALCULATING ACCURACY OF FGSM ATTACK FOR EPSILON = 25/255**"
   ]
  },
  {
   "cell_type": "code",
   "execution_count": 504,
   "metadata": {
    "execution": {
     "iopub.execute_input": "2022-09-27T06:02:13.170633Z",
     "iopub.status.busy": "2022-09-27T06:02:13.170369Z",
     "iopub.status.idle": "2022-09-27T06:02:44.695024Z",
     "shell.execute_reply": "2022-09-27T06:02:44.693835Z",
     "shell.execute_reply.started": "2022-09-27T06:02:13.170608Z"
    },
    "id": "Li0iCkYpGQS7",
    "outputId": "0fe5fb0f-1039-4c00-b58c-bf2140430993"
   },
   "outputs": [
    {
     "name": "stdout",
     "output_type": "stream",
     "text": [
      "Accuracy for epsilon = 25/255 is  28.97\n",
      "Attack Success Rate for epsilon = 25/255 is  67.52242152466367\n"
     ]
    }
   ],
   "source": [
    "accuracy, ASR = fgsm_attack(model,testloader,25/255)\n",
    "print(\"Accuracy for epsilon = 25/255 is \",accuracy)\n",
    "print(\"Attack Success Rate for epsilon = 25/255 is \", ASR)"
   ]
  },
  {
   "cell_type": "markdown",
   "metadata": {
    "id": "uCVERezsNIfW"
   },
   "source": [
    "**CALCULATING ACCURACIES FOR FGSM ATTACK ON DIFFERENT EPSILON VALUES**"
   ]
  },
  {
   "cell_type": "code",
   "execution_count": 505,
   "metadata": {
    "execution": {
     "iopub.execute_input": "2022-09-27T06:02:44.697130Z",
     "iopub.status.busy": "2022-09-27T06:02:44.696555Z",
     "iopub.status.idle": "2022-09-27T06:06:25.491778Z",
     "shell.execute_reply": "2022-09-27T06:06:25.490582Z",
     "shell.execute_reply.started": "2022-09-27T06:02:44.697075Z"
    },
    "id": "Rytd23aXGUCk",
    "outputId": "8db15c15-c6dd-47d2-f912-2ae609408d81"
   },
   "outputs": [
    {
     "name": "stdout",
     "output_type": "stream",
     "text": [
      "Epsilon: 0 Accuracy: 89.2 Attack Success Rate: 0.0\n",
      "Epsilon: 0.05 Accuracy: 43.1 Attack Success Rate: 51.681614349775785\n",
      "Epsilon: 0.1 Accuracy: 28.6 Attack Success Rate: 67.9372197309417\n",
      "Epsilon: 0.15 Accuracy: 22.52 Attack Success Rate: 74.75336322869956\n",
      "Epsilon: 0.2 Accuracy: 19.49 Attack Success Rate: 78.15022421524664\n",
      "Epsilon: 0.25 Accuracy: 18.26 Attack Success Rate: 79.52914798206278\n",
      "Epsilon: 0.3 Accuracy: 17.78 Attack Success Rate: 80.06726457399103\n"
     ]
    }
   ],
   "source": [
    "epsilons=[0,0.05,0.1,0.15,0.2,0.25, 0.3]\n",
    "fgsm_accuracies=[]\n",
    "fgsm_ASRs = []\n",
    "for i in epsilons:\n",
    "  acc, asr=fgsm_attack(model,testloader,i)\n",
    "  print(\"Epsilon: \"+str(i)+\" Accuracy: \"+str(acc)+\" Attack Success Rate: \"+str(asr))\n",
    "  fgsm_accuracies.append(acc)\n",
    "  fgsm_ASRs.append(asr) "
   ]
  },
  {
   "cell_type": "markdown",
   "metadata": {
    "id": "3tcBOba9NMDI"
   },
   "source": [
    "**PLOTTING ACCURACIES FOR DIFFERENT EPSILONS IN FGSM ATTACK.**"
   ]
  },
  {
   "cell_type": "code",
   "execution_count": 506,
   "metadata": {
    "execution": {
     "iopub.execute_input": "2022-09-27T06:06:25.495165Z",
     "iopub.status.busy": "2022-09-27T06:06:25.494374Z",
     "iopub.status.idle": "2022-09-27T06:06:25.741270Z",
     "shell.execute_reply": "2022-09-27T06:06:25.740175Z",
     "shell.execute_reply.started": "2022-09-27T06:06:25.495121Z"
    },
    "id": "aBa_0WklGe4k",
    "outputId": "d5463a98-e9e6-47ed-9253-294a584bd15e"
   },
   "outputs": [
    {
     "data": {
      "text/plain": [
       "Text(0, 0.5, 'Accuracy')"
      ]
     },
     "execution_count": 506,
     "metadata": {},
     "output_type": "execute_result"
    },
    {
     "data": {
      "image/png": "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\n",
      "text/plain": [
       "<Figure size 432x288 with 1 Axes>"
      ]
     },
     "metadata": {
      "needs_background": "light"
     },
     "output_type": "display_data"
    }
   ],
   "source": [
    "import seaborn as sns\n",
    "Z =  sns.lineplot( epsilons,fgsm_accuracies)\n",
    "Z.set(title='Epsilons Vs Accuracy')\n",
    "Z.set_xlabel('Epsilons')\n",
    "Z.set_ylabel('Accuracy')"
   ]
  },
  {
   "cell_type": "code",
   "execution_count": 507,
   "metadata": {
    "execution": {
     "iopub.execute_input": "2022-09-27T06:06:25.744007Z",
     "iopub.status.busy": "2022-09-27T06:06:25.743239Z",
     "iopub.status.idle": "2022-09-27T06:06:25.991133Z",
     "shell.execute_reply": "2022-09-27T06:06:25.990001Z",
     "shell.execute_reply.started": "2022-09-27T06:06:25.743965Z"
    }
   },
   "outputs": [
    {
     "data": {
      "text/plain": [
       "Text(0, 0.5, 'Attack Success Rate')"
      ]
     },
     "execution_count": 507,
     "metadata": {},
     "output_type": "execute_result"
    },
    {
     "data": {
      "image/png": "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\n",
      "text/plain": [
       "<Figure size 432x288 with 1 Axes>"
      ]
     },
     "metadata": {
      "needs_background": "light"
     },
     "output_type": "display_data"
    }
   ],
   "source": [
    "import seaborn as sns\n",
    "Z = sns.lineplot( epsilons, fgsm_ASRs)\n",
    "Z.set(title='Epsilons Vs Attack Success Rate')\n",
    "Z.set_xlabel('Epsilons')\n",
    "Z.set_ylabel('Attack Success Rate')"
   ]
  },
  {
   "cell_type": "markdown",
   "metadata": {
    "id": "Ots4VhpuNPbY"
   },
   "source": [
    "**DEFINING PGD ATTACK FUNCTION USING FORMULA**"
   ]
  },
  {
   "cell_type": "code",
   "execution_count": 508,
   "metadata": {
    "execution": {
     "iopub.execute_input": "2022-09-27T06:06:25.993644Z",
     "iopub.status.busy": "2022-09-27T06:06:25.992924Z",
     "iopub.status.idle": "2022-09-27T06:06:26.001291Z",
     "shell.execute_reply": "2022-09-27T06:06:26.000235Z",
     "shell.execute_reply.started": "2022-09-27T06:06:25.993603Z"
    },
    "id": "leYXZfwJJgMb"
   },
   "outputs": [],
   "source": [
    "def pgd(model, X, y, epsilon, alpha, num_iter):\n",
    "    delta = torch.zeros_like(X, requires_grad=True)\n",
    "    for t in range(num_iter):\n",
    "        loss = nn.CrossEntropyLoss()(model(X + delta), y)\n",
    "        loss.backward()\n",
    "        delta.data = (delta + X.shape[0]*alpha*delta.grad.data).clamp(-epsilon,epsilon)\n",
    "        delta.grad.zero_()\n",
    "    return delta.detach()"
   ]
  },
  {
   "cell_type": "code",
   "execution_count": 509,
   "metadata": {
    "execution": {
     "iopub.execute_input": "2022-09-27T06:06:26.003277Z",
     "iopub.status.busy": "2022-09-27T06:06:26.002756Z",
     "iopub.status.idle": "2022-09-27T06:06:26.018624Z",
     "shell.execute_reply": "2022-09-27T06:06:26.017015Z",
     "shell.execute_reply.started": "2022-09-27T06:06:26.003236Z"
    },
    "id": "MyPbL4b9JjWR"
   },
   "outputs": [],
   "source": [
    "def pgd_attack(model, test, eps, itr):\n",
    "    original_count=0\n",
    "    correct=0\n",
    "    i=0\n",
    "    c=0\n",
    "    c1=0\n",
    "#     pgd_ASR=0\n",
    "    for X,y in testloader:\n",
    "        i=i+1\n",
    "        X,y = X.to(device), y.to(device)\n",
    "        yp = model(X)\n",
    "        finalpredclass=  yp.max(1, keepdim=True)[1]\n",
    "#         print(finalpredclass)\n",
    "        delta = pgd(model, X, y, eps, 1e4, itr )\n",
    "        X_adv =X + delta\n",
    "        yppgd = model(X_adv)\n",
    "        finalyppgd=  yppgd.max(1, keepdim=True)[1]\n",
    "        t =finalyppgd.cpu().detach().numpy()[0][0]\n",
    "        if(c<=10 and itr==10 and torch.ne(finalpredclass, finalyppgd)):\n",
    "            c=c+1\n",
    "            print('Example '+str(c)+ ' for original image with original prediction and adversarial image with after attack prediction respecitively using PGD attack in 10 steps: ')\n",
    "            figure, (ax1, ax2) = plt.subplots(1, 2)\n",
    "            index =finalpredclass.cpu().detach().numpy()[0][0]\n",
    "#             lab = labels_map[index]\n",
    "            ax1.set_title(labels_map[index])\n",
    "            ax1.axis(\"off\")\n",
    "            ax1.imshow(X.cpu().squeeze(), cmap=\"gray\")\n",
    "#             ans=  finalyppgd.max(1, keepdim=True)[1]\n",
    "            ax2.set_title(labels_map[t])\n",
    "            ax2.axis(\"off\")\n",
    "            ax2.imshow(X_adv.cpu().squeeze(), cmap=\"gray\")\n",
    "            plt.show()\n",
    "        \n",
    "        if torch.eq(finalpredclass,y):\n",
    "            original_count = original_count+1\n",
    "        if torch.eq(finalyppgd,finalpredclass ):\n",
    "            c1=c1+1\n",
    "        if torch.eq(finalyppgd,y):\n",
    "            correct = correct+1\n",
    "    \n",
    "    pgd_accuracy = correct*100/len(testloader)\n",
    "    y= original_count/100\n",
    "#     print(y) \n",
    "    pgd_ASR = (y-pgd_accuracy)*100/y\n",
    "    return pgd_accuracy, pgd_ASR"
   ]
  },
  {
   "cell_type": "markdown",
   "metadata": {
    "id": "ReKr7n8wNrC2"
   },
   "source": [
    "**CALCULATING ACCURACIES FOR DIFFERENT SETPS  (ALONG WITH VISUALIZING 10 ADVERSARIAL EXAMPLES FOR STEP=10)**"
   ]
  },
  {
   "cell_type": "code",
   "execution_count": 510,
   "metadata": {
    "execution": {
     "iopub.execute_input": "2022-09-27T06:06:26.021420Z",
     "iopub.status.busy": "2022-09-27T06:06:26.020886Z",
     "iopub.status.idle": "2022-09-27T06:06:26.030201Z",
     "shell.execute_reply": "2022-09-27T06:06:26.029198Z",
     "shell.execute_reply.started": "2022-09-27T06:06:26.021380Z"
    },
    "id": "p5PoWPg8Ko7_"
   },
   "outputs": [],
   "source": [
    "labels_map = {\n",
    "    0: \"T-Shirt\",\n",
    "    1: \"Trouser\",\n",
    "    2: \"Pullover\",\n",
    "    3: \"Dress\",\n",
    "    4: \"Coat\",\n",
    "    5: \"Sandal\",\n",
    "    6: \"Shirt\",\n",
    "    7: \"Sneaker\",\n",
    "    8: \"Bag\",\n",
    "    9: \"Ankle Boot\",\n",
    "}\n"
   ]
  },
  {
   "cell_type": "code",
   "execution_count": 511,
   "metadata": {
    "execution": {
     "iopub.execute_input": "2022-09-27T06:06:26.032369Z",
     "iopub.status.busy": "2022-09-27T06:06:26.031677Z",
     "iopub.status.idle": "2022-09-27T06:12:25.939484Z",
     "shell.execute_reply": "2022-09-27T06:12:25.931959Z",
     "shell.execute_reply.started": "2022-09-27T06:06:26.032323Z"
    },
    "id": "o0-Vp5E8Jsx2",
    "outputId": "eb4a75e4-8041-41ca-ac85-116360798d9b"
   },
   "outputs": [
    {
     "name": "stdout",
     "output_type": "stream",
     "text": [
      "Steps: 1 Accuracy: 79.75 Attack Success Rate: 10.594170403587446\n",
      "Steps: 2 Accuracy: 78.5 Attack Success Rate: 11.995515695067267\n",
      "Steps: 5 Accuracy: 77.12 Attack Success Rate: 13.542600896860984\n",
      "Example 1 for original image with original prediction and adversarial image with after attack prediction respecitively using PGD attack in 10 steps: \n"
     ]
    },
    {
     "data": {
      "image/png": "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\n",
      "text/plain": [
       "<Figure size 432x288 with 2 Axes>"
      ]
     },
     "metadata": {
      "needs_background": "light"
     },
     "output_type": "display_data"
    },
    {
     "name": "stdout",
     "output_type": "stream",
     "text": [
      "Example 2 for original image with original prediction and adversarial image with after attack prediction respecitively using PGD attack in 10 steps: \n"
     ]
    },
    {
     "data": {
      "image/png": "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\n",
      "text/plain": [
       "<Figure size 432x288 with 2 Axes>"
      ]
     },
     "metadata": {
      "needs_background": "light"
     },
     "output_type": "display_data"
    },
    {
     "name": "stdout",
     "output_type": "stream",
     "text": [
      "Example 3 for original image with original prediction and adversarial image with after attack prediction respecitively using PGD attack in 10 steps: \n"
     ]
    },
    {
     "data": {
      "image/png": "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\n",
      "text/plain": [
       "<Figure size 432x288 with 2 Axes>"
      ]
     },
     "metadata": {
      "needs_background": "light"
     },
     "output_type": "display_data"
    },
    {
     "name": "stdout",
     "output_type": "stream",
     "text": [
      "Example 4 for original image with original prediction and adversarial image with after attack prediction respecitively using PGD attack in 10 steps: \n"
     ]
    },
    {
     "data": {
      "image/png": "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\n",
      "text/plain": [
       "<Figure size 432x288 with 2 Axes>"
      ]
     },
     "metadata": {
      "needs_background": "light"
     },
     "output_type": "display_data"
    },
    {
     "name": "stdout",
     "output_type": "stream",
     "text": [
      "Example 5 for original image with original prediction and adversarial image with after attack prediction respecitively using PGD attack in 10 steps: \n"
     ]
    },
    {
     "data": {
      "image/png": "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\n",
      "text/plain": [
       "<Figure size 432x288 with 2 Axes>"
      ]
     },
     "metadata": {
      "needs_background": "light"
     },
     "output_type": "display_data"
    },
    {
     "name": "stdout",
     "output_type": "stream",
     "text": [
      "Example 6 for original image with original prediction and adversarial image with after attack prediction respecitively using PGD attack in 10 steps: \n"
     ]
    },
    {
     "data": {
      "image/png": "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\n",
      "text/plain": [
       "<Figure size 432x288 with 2 Axes>"
      ]
     },
     "metadata": {
      "needs_background": "light"
     },
     "output_type": "display_data"
    },
    {
     "name": "stdout",
     "output_type": "stream",
     "text": [
      "Example 7 for original image with original prediction and adversarial image with after attack prediction respecitively using PGD attack in 10 steps: \n"
     ]
    },
    {
     "data": {
      "image/png": "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\n",
      "text/plain": [
       "<Figure size 432x288 with 2 Axes>"
      ]
     },
     "metadata": {
      "needs_background": "light"
     },
     "output_type": "display_data"
    },
    {
     "name": "stdout",
     "output_type": "stream",
     "text": [
      "Example 8 for original image with original prediction and adversarial image with after attack prediction respecitively using PGD attack in 10 steps: \n"
     ]
    },
    {
     "data": {
      "image/png": "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\n",
      "text/plain": [
       "<Figure size 432x288 with 2 Axes>"
      ]
     },
     "metadata": {
      "needs_background": "light"
     },
     "output_type": "display_data"
    },
    {
     "name": "stdout",
     "output_type": "stream",
     "text": [
      "Example 9 for original image with original prediction and adversarial image with after attack prediction respecitively using PGD attack in 10 steps: \n"
     ]
    },
    {
     "data": {
      "image/png": "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\n",
      "text/plain": [
       "<Figure size 432x288 with 2 Axes>"
      ]
     },
     "metadata": {
      "needs_background": "light"
     },
     "output_type": "display_data"
    },
    {
     "name": "stdout",
     "output_type": "stream",
     "text": [
      "Example 10 for original image with original prediction and adversarial image with after attack prediction respecitively using PGD attack in 10 steps: \n"
     ]
    },
    {
     "data": {
      "image/png": "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\n",
      "text/plain": [
       "<Figure size 432x288 with 2 Axes>"
      ]
     },
     "metadata": {
      "needs_background": "light"
     },
     "output_type": "display_data"
    },
    {
     "name": "stdout",
     "output_type": "stream",
     "text": [
      "Example 11 for original image with original prediction and adversarial image with after attack prediction respecitively using PGD attack in 10 steps: \n"
     ]
    },
    {
     "data": {
      "image/png": "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\n",
      "text/plain": [
       "<Figure size 432x288 with 2 Axes>"
      ]
     },
     "metadata": {
      "needs_background": "light"
     },
     "output_type": "display_data"
    },
    {
     "name": "stdout",
     "output_type": "stream",
     "text": [
      "Steps: 10 Accuracy: 76.17 Attack Success Rate: 14.60762331838565\n"
     ]
    }
   ],
   "source": [
    "steps = [1,2,5,10] #Different steps\n",
    "eps = 25/255 #setting epsilon\n",
    "pgd_accuracies = []\n",
    "pgd_asrs=[]\n",
    "for i in steps:\n",
    "    acc, pgd_asr = pgd_attack(model, testloader, eps , i)\n",
    "    print('Steps: '+str(i)+' Accuracy: '+str(acc)+\" Attack Success Rate: \"+str(pgd_asr))\n",
    "    pgd_accuracies.append(acc)\n",
    "    pgd_asrs.append(pgd_asr)"
   ]
  },
  {
   "cell_type": "markdown",
   "metadata": {
    "id": "bg5mhGR9NvWH"
   },
   "source": [
    "**PLOTTING ACCURACIES & ATTACK SUCCESS RATE FOR DIFFERENT STEPS IN PGD ATTACK.**"
   ]
  },
  {
   "cell_type": "code",
   "execution_count": 512,
   "metadata": {
    "execution": {
     "iopub.execute_input": "2022-09-27T06:12:25.940959Z",
     "iopub.status.busy": "2022-09-27T06:12:25.940626Z",
     "iopub.status.idle": "2022-09-27T06:12:26.453896Z",
     "shell.execute_reply": "2022-09-27T06:12:26.452971Z",
     "shell.execute_reply.started": "2022-09-27T06:12:25.940927Z"
    },
    "id": "FBIUVXiIKyjo",
    "outputId": "56581c35-e303-438e-b449-7b2adb79a3ff"
   },
   "outputs": [
    {
     "data": {
      "text/plain": [
       "Text(0, 0.5, 'Accuracy')"
      ]
     },
     "execution_count": 512,
     "metadata": {},
     "output_type": "execute_result"
    },
    {
     "data": {
      "image/png": "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\n",
      "text/plain": [
       "<Figure size 432x288 with 1 Axes>"
      ]
     },
     "metadata": {
      "needs_background": "light"
     },
     "output_type": "display_data"
    }
   ],
   "source": [
    "import seaborn as sns\n",
    "plot = sns.lineplot( steps,pgd_accuracies)\n",
    "plot.set(title='Steps Vs Accuracy')\n",
    "plot.set_xlabel('Steps')\n",
    "plot.set_ylabel('Accuracy')"
   ]
  },
  {
   "cell_type": "code",
   "execution_count": 513,
   "metadata": {
    "execution": {
     "iopub.execute_input": "2022-09-27T06:12:26.460876Z",
     "iopub.status.busy": "2022-09-27T06:12:26.458399Z",
     "iopub.status.idle": "2022-09-27T06:12:26.806787Z",
     "shell.execute_reply": "2022-09-27T06:12:26.805950Z",
     "shell.execute_reply.started": "2022-09-27T06:12:26.460838Z"
    }
   },
   "outputs": [
    {
     "data": {
      "text/plain": [
       "Text(0, 0.5, 'Attack Success Rate')"
      ]
     },
     "execution_count": 513,
     "metadata": {},
     "output_type": "execute_result"
    },
    {
     "data": {
      "image/png": "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\n",
      "text/plain": [
       "<Figure size 432x288 with 1 Axes>"
      ]
     },
     "metadata": {
      "needs_background": "light"
     },
     "output_type": "display_data"
    }
   ],
   "source": [
    "plot = sns.lineplot(steps,pgd_asrs)\n",
    "plot.set(title='Steps Vs Attack Success Rate')\n",
    "plot.set_xlabel('Steps')\n",
    "plot.set_ylabel('Attack Success Rate')"
   ]
  },
  {
   "cell_type": "code",
   "execution_count": null,
   "metadata": {},
   "outputs": [],
   "source": []
  }
 ],
 "metadata": {
  "kernelspec": {
   "display_name": "Python 3 (ipykernel)",
   "language": "python",
   "name": "python3"
  },
  "language_info": {
   "codemirror_mode": {
    "name": "ipython",
    "version": 3
   },
   "file_extension": ".py",
   "mimetype": "text/x-python",
   "name": "python",
   "nbconvert_exporter": "python",
   "pygments_lexer": "ipython3",
   "version": "3.9.12"
  }
 },
 "nbformat": 4,
 "nbformat_minor": 4
}
